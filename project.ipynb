{
 "cells": [
  {
   "cell_type": "markdown",
   "id": "9b348cb1-70a7-4eb2-a472-ca88877885e7",
   "metadata": {},
   "source": [
    "<h1 style=\"text-align: center;\">Analyis of Point Production of NBA Players</h1>"
   ]
  },
  {
   "cell_type": "markdown",
   "id": "ccbab4e0-e83b-43e9-9a60-58e6fefb0424",
   "metadata": {},
   "source": [
    "# Introduction"
   ]
  },
  {
   "cell_type": "markdown",
   "id": "64fdbf77-9903-4840-86e5-445e375aedc2",
   "metadata": {},
   "source": [
    "Using this dataset of NBA player stats we want to perform a regression analysis of the selected variables to help predict the on-court performance of a player (their average points scored). To do so, all non-preformance related stats, including, age,  height, weight, and draft pick will be used. The season variable will also allow player preformances to be measured throughout time and compare NBA starts from all eras and styles of the game. All of these factors were selected because of their likelihood to correlate with stronger on-court performance.\n",
    "\n",
    "Our question: How do our selected factors help to predict the individual performance of NBA players? \n",
    "\n",
    "To do this, we will use [this dataset](https://www.kaggle.com/datasets/justinas/nba-players-data) from Kaggle. The data was acquired through the NBA API with missing information supplied by scraping from another NBA source (for this reason, the dataset was taken directly from Kaggle and not the original source). "
   ]
  },
  {
   "cell_type": "markdown",
   "id": "d221420a-7a33-47b0-a788-f2ddee71d70b",
   "metadata": {},
   "source": [
    "# Methods and Results"
   ]
  },
  {
   "cell_type": "markdown",
   "id": "841ca3b4-2eca-4dde-82a8-b1a6edc5fc3d",
   "metadata": {},
   "source": [
    "## Load Libraries"
   ]
  },
  {
   "cell_type": "code",
   "execution_count": 1,
   "id": "41bdac6b-3c67-4d84-a8ed-556d9e64df0d",
   "metadata": {
    "tags": [],
    "vscode": {
     "languageId": "r"
    }
   },
   "outputs": [
    {
     "ename": "ERROR",
     "evalue": "Error in library(tidyverse): there is no package called 'tidyverse'\n",
     "output_type": "error",
     "traceback": [
      "Error in library(tidyverse): there is no package called 'tidyverse'\nTraceback:\n",
      "1. library(tidyverse)"
     ]
    }
   ],
   "source": [
    "library(tidyverse)\n",
    "library(tidymodels)\n",
    "library(repr)\n",
    "options(repr.matrix.max.rows = 6)"
   ]
  },
  {
   "cell_type": "markdown",
   "id": "09b87609-e85e-4a39-82c2-71d7a19e4ce7",
   "metadata": {},
   "source": [
    "## Dataset Load & Preperation"
   ]
  },
  {
   "cell_type": "markdown",
   "id": "d4f4d1f5-6319-4bcf-969c-da5b24b3b119",
   "metadata": {},
   "source": [
    "First we pull our dataset from the internet."
   ]
  },
  {
   "cell_type": "markdown",
   "id": "a3f2d409-22d2-4797-ba69-1c8afeaa7778",
   "metadata": {},
   "source": [
    "The dataset contains 22 variables, the majority of which we discard as categorical variables cannot be used and several numeric variables are unsuited for this model. We will conduct analysis on the remaining selected variables to try and predict the average points a player will get per season using regression analysis. By first training a model on the training data for each respective datapoint category we will then be able too use the k-nearest neighbors algorithm to perform regression on the data and decide which of the columns provides the best predictor for a players preformance."
   ]
  },
  {
   "cell_type": "code",
   "execution_count": null,
   "id": "d6996029-e9b9-4e03-badf-9a3bc3f1bdd6",
   "metadata": {
    "tags": [],
    "vscode": {
     "languageId": "r"
    }
   },
   "outputs": [
    {
     "ename": "",
     "evalue": "",
     "output_type": "error",
     "traceback": [
      "\u001b[1;31mFailed to start the Kernel. \n",
      "\u001b[1;31mThe kernel 'R' was not started as it is located in an insecure location 'c:\\ProgramData\\jupyter\\kernels\\ir\\kernel.json'.  \n",
      "\u001b[1;31mClick <a href='https://aka.ms/JupyterTrustedKernelPaths'>here</a> for further details, optionally update the setting <a href='command:workbench.action.openSettings?[\"jupyter.kernels.trusted\"]'>jupyter.kernels.trusted</a> to trust the kernel."
     ]
    }
   ],
   "source": [
    "url <-\"https://raw.githubusercontent.com/mdean808/dsci-100-group-project/b11c50b091b2c4a554a2b7ff8f9e568e081b0f3c/all_seasons.csv\"\n",
    "\n",
    "temp <- tempfile()\n",
    "\n",
    "download.file(url, temp)\n",
    "# read the dataset from temp file\n",
    "player_data <- read_csv(temp)\n",
    "head(player_data)"
   ]
  },
  {
   "cell_type": "markdown",
   "id": "e7d0f2de-098e-4196-be94-5a984d5add6b",
   "metadata": {},
   "source": [
    "For our project, we will focus only on the specific parameters to judge the overall performance of an NBA player, these include points (pts), the variable which we will be predicting, as well as rebounds (reb), and assists (ast), usage percentage (usg_pct), true shooting percentage (ts_pct), and their draft number (draft_number).\n",
    "\n",
    "Additionally, players drafted in or before 2011 are excluded, to keep the data used recent and the dataset size managable."
   ]
  },
  {
   "cell_type": "code",
   "execution_count": null,
   "id": "c72f4886-c5e4-47e7-8f5a-aea2bdef7f02",
   "metadata": {
    "tags": [],
    "vscode": {
     "languageId": "r"
    }
   },
   "outputs": [
    {
     "ename": "",
     "evalue": "",
     "output_type": "error",
     "traceback": [
      "\u001b[1;31mFailed to start the Kernel. \n",
      "\u001b[1;31mThe kernel 'R' was not started as it is located in an insecure location 'c:\\ProgramData\\jupyter\\kernels\\ir\\kernel.json'.  \n",
      "\u001b[1;31mClick <a href='https://aka.ms/JupyterTrustedKernelPaths'>here</a> for further details, optionally update the setting <a href='command:workbench.action.openSettings?[\"jupyter.kernels.trusted\"]'>jupyter.kernels.trusted</a> to trust the kernel."
     ]
    }
   ],
   "source": [
    "nba_players <- player_data |>\n",
    "    filter(draft_year > 2011) |>\n",
    "    select(pts, reb, ast, usg_pct, ts_pct, draft_number) |>\n",
    "    # remove undrafted players with no draft number \"Undrafted\"\n",
    "    filter(draft_number != \"Undrafted\") |>\n",
    "    mutate(draft_number = as.numeric(draft_number))            \n",
    "nba_players"
   ]
  },
  {
   "cell_type": "markdown",
   "id": "4c301517-3955-4f75-a3fc-fa87f2eb1b6e",
   "metadata": {},
   "source": [
    "Now we will split the data into training and testing. We will use the training data to build our regression model and our testing data to measure how well our model performs."
   ]
  },
  {
   "cell_type": "code",
   "execution_count": null,
   "id": "09aac6af-cca7-4c47-b7c9-c754401dd5a2",
   "metadata": {
    "tags": [],
    "vscode": {
     "languageId": "r"
    }
   },
   "outputs": [
    {
     "ename": "",
     "evalue": "",
     "output_type": "error",
     "traceback": [
      "\u001b[1;31mFailed to start the Kernel. \n",
      "\u001b[1;31mThe kernel 'R' was not started as it is located in an insecure location 'c:\\ProgramData\\jupyter\\kernels\\ir\\kernel.json'.  \n",
      "\u001b[1;31mClick <a href='https://aka.ms/JupyterTrustedKernelPaths'>here</a> for further details, optionally update the setting <a href='command:workbench.action.openSettings?[\"jupyter.kernels.trusted\"]'>jupyter.kernels.trusted</a> to trust the kernel."
     ]
    }
   ],
   "source": [
    "set.seed(\"1234\")\n",
    "nba_players_split <- initial_split(nba_players, prop = 0.75, strata = pts)\n",
    "nba_training <- training(nba_players_split)\n",
    "nba_testing <- testing(nba_players_split)\n",
    "\n",
    "nba_training"
   ]
  },
  {
   "cell_type": "markdown",
   "id": "be54ad56-34c6-49fe-b70a-352015c7a5e6",
   "metadata": {},
   "source": [
    "# Dataset Visualization"
   ]
  },
  {
   "cell_type": "markdown",
   "id": "e3a2d4c8-309f-42f3-ba6c-4b323c8d115a",
   "metadata": {},
   "source": [
    "Now we will look at the correlation of multiple parameters compared with points. This will allow us to predict which parameters strongly influence overall points scored before we build our regression model. "
   ]
  },
  {
   "cell_type": "code",
   "execution_count": null,
   "id": "589c72dd-0d3c-4170-be66-4e9f5e10af35",
   "metadata": {
    "tags": [],
    "vscode": {
     "languageId": "r"
    }
   },
   "outputs": [
    {
     "ename": "",
     "evalue": "",
     "output_type": "error",
     "traceback": [
      "\u001b[1;31mFailed to start the Kernel. \n",
      "\u001b[1;31mThe kernel 'R' was not started as it is located in an insecure location 'c:\\ProgramData\\jupyter\\kernels\\ir\\kernel.json'.  \n",
      "\u001b[1;31mClick <a href='https://aka.ms/JupyterTrustedKernelPaths'>here</a> for further details, optionally update the setting <a href='command:workbench.action.openSettings?[\"jupyter.kernels.trusted\"]'>jupyter.kernels.trusted</a> to trust the kernel."
     ]
    }
   ],
   "source": [
    "options(repr.plot.width = 10)\n",
    "\n",
    "nba_plot_rebounds <- ggplot(nba_training, aes(x = reb, y = pts)) +\n",
    "geom_point(alpha = 0.4) +\n",
    "labs(x = \"Rebound\", y = \"Average Points Per Game\") +\n",
    "ggtitle(\"Rebound vs. Average Points Per Game\") +\n",
    "theme(text = element_text(size = 12))\n",
    "\n",
    "nba_plot_assists <- ggplot(nba_training, aes(x = ast, y = pts)) +\n",
    "geom_point(alpha = 0.4)+\n",
    "labs(x = \"Assist\", y = \"Average Points Per Game\") +\n",
    "ggtitle(\"Assist vs. Average Points Per Game\") +\n",
    "theme(text = element_text(size = 12))\n",
    "\n",
    "nba_plot_usage_pct <- ggplot(nba_training, aes(x = usg_pct, y = pts)) +\n",
    "geom_point(alpha = 0.4) +\n",
    "labs(x = \"Usage Percentage\", y = \"Average Points Per Game\") +\n",
    "ggtitle(\"Usage Percentage vs. Average Points Per Game\") +\n",
    "theme(text = element_text(size = 12))\n",
    "\n",
    "nba_plot_true_shooting_pct <- ggplot(nba_training, aes(x = ts_pct, y = pts)) +\n",
    "geom_point(alpha = 0.4) +\n",
    "labs(x = \"True Shooting Percentage\", y = \"Average Points Per Game\") +\n",
    "ggtitle(\"True Shooting Percentage vs. Average Points Per Game\") +\n",
    "theme(text = element_text(size = 12))\n",
    "\n",
    "nba_plot_number <- ggplot(nba_training, aes(x = draft_number, y = pts)) +\n",
    "geom_point(alpha = 0.4) +\n",
    "labs(x = \"Draft Number\", y = \"Average Points Per Game\") +\n",
    "ggtitle(\"Draft Number vs. Average Points Per Game\") +\n",
    "theme(text = element_text(size = 12))\n",
    "\n",
    "nba_plot_rebounds\n",
    "nba_plot_assists\n",
    "nba_plot_usage_pct\n",
    "nba_plot_true_shooting_pct\n",
    "nba_plot_number"
   ]
  },
  {
   "cell_type": "markdown",
   "id": "b37ce4c8-03b6-457a-b9ff-4d79379dbe8e",
   "metadata": {},
   "source": [
    "As shown in the visualizations above, usage percentage appears to have strong and somewhat linear relationship with points scored, which makes it potentially a good predictor. The other variables also exhibit trends, with rebounds and exhists showing a positive relationship with points scored. Draft number seems to have a weak negative relationship, and true shooting percentage shows a distribution with the area with the highest points surrounding the centre of the graph. The lack of linearity with several of the variables supports the use of k-nearest neighbors for this data set over linear regression."
   ]
  },
  {
   "cell_type": "markdown",
   "id": "6e39a671-eee4-47e6-80e1-b57310884da8",
   "metadata": {
    "tags": []
   },
   "source": [
    "Shown below is the calculated means of the variables, as well as the total number of data points within the training set."
   ]
  },
  {
   "cell_type": "code",
   "execution_count": null,
   "id": "4342ade8-a50f-41a9-a934-0427d4adeac0",
   "metadata": {
    "tags": [],
    "vscode": {
     "languageId": "r"
    }
   },
   "outputs": [
    {
     "ename": "",
     "evalue": "",
     "output_type": "error",
     "traceback": [
      "\u001b[1;31mFailed to start the Kernel. \n",
      "\u001b[1;31mThe kernel 'R' was not started as it is located in an insecure location 'c:\\ProgramData\\jupyter\\kernels\\ir\\kernel.json'.  \n",
      "\u001b[1;31mClick <a href='https://aka.ms/JupyterTrustedKernelPaths'>here</a> for further details, optionally update the setting <a href='command:workbench.action.openSettings?[\"jupyter.kernels.trusted\"]'>jupyter.kernels.trusted</a> to trust the kernel."
     ]
    }
   ],
   "source": [
    "summarise_rebounds <- summarise(nba_training, mean_rebounds = mean(reb))\n",
    "summarise_assists <- summarise(nba_training, mean_assists = mean(ast))\n",
    "summarise_usage_pct <- summarise(nba_training, mean_usage = mean(usg_pct))\n",
    "summarise_true_shooting_pct <- summarise(nba_training, mean_ts = mean(ts_pct))\n",
    "summarise_draft_number <- nba_training |>\n",
    "summarise(mean_number = mean(as.numeric(draft_number), na.rm = TRUE))\n",
    "summarise_nrow <- summarise(nba_training, total_rows = nrow(nba_training))\n",
    "\n",
    "combined_summary <- bind_cols(summarise_rebounds, summarise_assists, summarise_usage_pct,\n",
    "summarise_true_shooting_pct, summarise_draft_number, summarise_nrow)\n",
    "\n",
    "\n",
    "combined_summary"
   ]
  },
  {
   "cell_type": "code",
   "execution_count": null,
   "id": "55cac0ca-989e-480c-b72f-15686de68313",
   "metadata": {
    "vscode": {
     "languageId": "r"
    }
   },
   "outputs": [
    {
     "ename": "",
     "evalue": "",
     "output_type": "error",
     "traceback": [
      "\u001b[1;31mFailed to start the Kernel. \n",
      "\u001b[1;31mThe kernel 'R' was not started as it is located in an insecure location 'c:\\ProgramData\\jupyter\\kernels\\ir\\kernel.json'.  \n",
      "\u001b[1;31mClick <a href='https://aka.ms/JupyterTrustedKernelPaths'>here</a> for further details, optionally update the setting <a href='command:workbench.action.openSettings?[\"jupyter.kernels.trusted\"]'>jupyter.kernels.trusted</a> to trust the kernel."
     ]
    }
   ],
   "source": []
  },
  {
   "cell_type": "markdown",
   "id": "0e8cab9a-c484-426c-98e0-bc114cd8ef47",
   "metadata": {},
   "source": [
    "## Data Analysis"
   ]
  },
  {
   "cell_type": "markdown",
   "id": "b9166c9c-1006-4a0b-b395-457551c48f1f",
   "metadata": {},
   "source": [
    "To predict the player performance variable, we will be using k-nearest neighbors regression, as the relationships between the predictor variables and our performance variable are not all linear, and the performance variable is numeric."
   ]
  },
  {
   "cell_type": "markdown",
   "id": "e4ffb11d-9bc4-4e24-b017-edba724ead14",
   "metadata": {},
   "source": [
    "First, we prepare the recipe, using rebounds, assists, usage percentage, and true shooting percentage to predict the points scored. These variables are all scaled before continuing."
   ]
  },
  {
   "cell_type": "code",
   "execution_count": null,
   "id": "b54ec642-cb44-46d8-87c4-9fc0a11f004a",
   "metadata": {
    "tags": [],
    "vscode": {
     "languageId": "r"
    }
   },
   "outputs": [
    {
     "ename": "",
     "evalue": "",
     "output_type": "error",
     "traceback": [
      "\u001b[1;31mFailed to start the Kernel. \n",
      "\u001b[1;31mThe kernel 'R' was not started as it is located in an insecure location 'c:\\ProgramData\\jupyter\\kernels\\ir\\kernel.json'.  \n",
      "\u001b[1;31mClick <a href='https://aka.ms/JupyterTrustedKernelPaths'>here</a> for further details, optionally update the setting <a href='command:workbench.action.openSettings?[\"jupyter.kernels.trusted\"]'>jupyter.kernels.trusted</a> to trust the kernel."
     ]
    }
   ],
   "source": [
    "nba_recipe <- recipe(pts ~ reb + ast + usg_pct + ts_pct + draft_number, data = nba_training) |>\n",
    "step_scale(all_predictors()) |>\n",
    "step_center(all_predictors())\n",
    "\n",
    "nba_recipe"
   ]
  },
  {
   "cell_type": "markdown",
   "id": "bc09f930-29b8-4d78-95f7-ebc9adc81226",
   "metadata": {},
   "source": [
    "Then, we prepare the model. First, we will using tuning to determine the best number of neighbours to use, employing 5-fold cross-validation."
   ]
  },
  {
   "cell_type": "code",
   "execution_count": null,
   "id": "d1e4030c-e092-44da-a035-bcd7520c464e",
   "metadata": {
    "tags": [],
    "vscode": {
     "languageId": "r"
    }
   },
   "outputs": [
    {
     "ename": "",
     "evalue": "",
     "output_type": "error",
     "traceback": [
      "\u001b[1;31mFailed to start the Kernel. \n",
      "\u001b[1;31mThe kernel 'R' was not started as it is located in an insecure location 'c:\\ProgramData\\jupyter\\kernels\\ir\\kernel.json'.  \n",
      "\u001b[1;31mClick <a href='https://aka.ms/JupyterTrustedKernelPaths'>here</a> for further details, optionally update the setting <a href='command:workbench.action.openSettings?[\"jupyter.kernels.trusted\"]'>jupyter.kernels.trusted</a> to trust the kernel."
     ]
    }
   ],
   "source": [
    "nba_spec <- nearest_neighbor(weight_func = \"rectangular\", neighbors = tune()) |>\n",
    "set_engine(\"kknn\") |>\n",
    "set_mode(\"regression\")\n",
    "\n",
    "nba_vfold <- vfold_cv(nba_training, v = 5, strata = pts)\n",
    "\n",
    "nba_workflow <- workflow() |>\n",
    "add_recipe(nba_recipe) |>\n",
    "add_model(nba_spec)\n",
    "\n",
    "nba_workflow\n"
   ]
  },
  {
   "cell_type": "markdown",
   "id": "3502e4d5-b16e-4d97-a065-c0f399d48a1a",
   "metadata": {},
   "source": [
    "We want to first determine a general range that the best number of neighbors will lie in, so we begin at 1 and step up to 100 in increments of 5."
   ]
  },
  {
   "cell_type": "code",
   "execution_count": null,
   "id": "31d60967-92ce-436b-8501-2ea58ea3e6d3",
   "metadata": {
    "tags": [],
    "vscode": {
     "languageId": "r"
    }
   },
   "outputs": [
    {
     "ename": "",
     "evalue": "",
     "output_type": "error",
     "traceback": [
      "\u001b[1;31mFailed to start the Kernel. \n",
      "\u001b[1;31mThe kernel 'R' was not started as it is located in an insecure location 'c:\\ProgramData\\jupyter\\kernels\\ir\\kernel.json'.  \n",
      "\u001b[1;31mClick <a href='https://aka.ms/JupyterTrustedKernelPaths'>here</a> for further details, optionally update the setting <a href='command:workbench.action.openSettings?[\"jupyter.kernels.trusted\"]'>jupyter.kernels.trusted</a> to trust the kernel."
     ]
    }
   ],
   "source": [
    "k_vals <- tibble(neighbors = seq(from = 1, to = 100, by = 5))\n",
    "\n",
    "nba_results <- nba_workflow |>\n",
    "  tune_grid(resamples = nba_vfold, grid = k_vals) |>\n",
    "  collect_metrics() |>\n",
    "  filter(.metric == \"rmse\")\n",
    "\n",
    "nba_results\n",
    "\n"
   ]
  },
  {
   "cell_type": "markdown",
   "id": "8a8633f4-7c85-466b-84db-4106078748d4",
   "metadata": {},
   "source": [
    "Then, we can select the number of neighbors from this list with the best predicted accuracy. Also shown is a graph of the number of neighbours vs. the mean RMSE."
   ]
  },
  {
   "cell_type": "code",
   "execution_count": null,
   "id": "49eeca0f-4fb9-4d11-b76e-dbcb540ab4ed",
   "metadata": {
    "tags": [],
    "vscode": {
     "languageId": "r"
    }
   },
   "outputs": [
    {
     "ename": "",
     "evalue": "",
     "output_type": "error",
     "traceback": [
      "\u001b[1;31mFailed to start the Kernel. \n",
      "\u001b[1;31mThe kernel 'R' was not started as it is located in an insecure location 'c:\\ProgramData\\jupyter\\kernels\\ir\\kernel.json'.  \n",
      "\u001b[1;31mClick <a href='https://aka.ms/JupyterTrustedKernelPaths'>here</a> for further details, optionally update the setting <a href='command:workbench.action.openSettings?[\"jupyter.kernels.trusted\"]'>jupyter.kernels.trusted</a> to trust the kernel."
     ]
    }
   ],
   "source": [
    "nba_k_plot <- ggplot(nba_results, aes(x = neighbors, y = mean)) +\n",
    "geom_point() +\n",
    "labs(x = \"Number of neighbours\", y = \"Mean RMSE\") +\n",
    "ggtitle(\"Number of neighbours vs. Mean RMSE\")\n",
    "\n",
    "nba_k_plot\n",
    "\n",
    "nba_k_initial <- nba_results |>\n",
    "  filter(mean == min(mean))\n",
    "nba_k_initial"
   ]
  },
  {
   "cell_type": "markdown",
   "id": "51c8ad41-569e-4f1d-971d-45e76a7cbf8e",
   "metadata": {},
   "source": [
    "To determine the single best value, we narrow down the range of neighbors we investigate to be between 1 and 15, and step by 1 to find the best value."
   ]
  },
  {
   "cell_type": "code",
   "execution_count": null,
   "id": "ca4d77ff-4e55-4c42-b081-2a9b01cf2671",
   "metadata": {
    "tags": [],
    "vscode": {
     "languageId": "r"
    }
   },
   "outputs": [
    {
     "ename": "",
     "evalue": "",
     "output_type": "error",
     "traceback": [
      "\u001b[1;31mFailed to start the Kernel. \n",
      "\u001b[1;31mThe kernel 'R' was not started as it is located in an insecure location 'c:\\ProgramData\\jupyter\\kernels\\ir\\kernel.json'.  \n",
      "\u001b[1;31mClick <a href='https://aka.ms/JupyterTrustedKernelPaths'>here</a> for further details, optionally update the setting <a href='command:workbench.action.openSettings?[\"jupyter.kernels.trusted\"]'>jupyter.kernels.trusted</a> to trust the kernel."
     ]
    }
   ],
   "source": [
    "k_vals_narrow <- tibble(neighbors = seq(from = 1, to = 15, by = 1))\n",
    "\n",
    "nba_results_2 <- nba_workflow |>\n",
    "  tune_grid(resamples = nba_vfold, grid = k_vals_narrow) |>\n",
    "  collect_metrics() |>\n",
    "  filter(.metric == \"rmse\")\n",
    "\n",
    "nba_results_2\n",
    "\n",
    "nba_smallest <- nba_results_2 |>\n",
    "  filter(mean == min(mean))\n",
    "nba_smallest\n"
   ]
  },
  {
   "cell_type": "markdown",
   "id": "4aec47a9-134c-419c-b2cf-6826f89ab8f7",
   "metadata": {},
   "source": [
    "Next, we prepare the final model, using the optimal amount of neighbors."
   ]
  },
  {
   "cell_type": "code",
   "execution_count": null,
   "id": "75038e6c-ebc7-41ea-809d-a885b3d57821",
   "metadata": {
    "tags": [],
    "vscode": {
     "languageId": "r"
    }
   },
   "outputs": [
    {
     "ename": "",
     "evalue": "",
     "output_type": "error",
     "traceback": [
      "\u001b[1;31mFailed to start the Kernel. \n",
      "\u001b[1;31mThe kernel 'R' was not started as it is located in an insecure location 'c:\\ProgramData\\jupyter\\kernels\\ir\\kernel.json'.  \n",
      "\u001b[1;31mClick <a href='https://aka.ms/JupyterTrustedKernelPaths'>here</a> for further details, optionally update the setting <a href='command:workbench.action.openSettings?[\"jupyter.kernels.trusted\"]'>jupyter.kernels.trusted</a> to trust the kernel."
     ]
    }
   ],
   "source": [
    "neighbors_val <- nba_smallest |>\n",
    "pull(neighbors)\n",
    "\n",
    "nba_tuned_spec <- nearest_neighbor(weight_func = \"rectangular\", neighbors = neighbors_val) |>\n",
    "  set_engine(\"kknn\") |>\n",
    "  set_mode(\"regression\")\n",
    "\n",
    "nba_fit <- workflow() |>\n",
    "  add_recipe(nba_recipe) |>\n",
    "  add_model(nba_tuned_spec) |>\n",
    "  fit(data = nba_training)\n",
    "\n",
    "nba_predict <- nba_fit |>\n",
    "  predict(nba_testing) |>\n",
    "  bind_cols(nba_testing)\n",
    "\n",
    "nba_rmse <- nba_predict |>\n",
    "  metrics(truth = pts, estimate = .pred) |>\n",
    "  filter(.metric == 'rmse')\n",
    "\n",
    "nba_predict_select <- nba_predict |>\n",
    "select(.pred, pts)\n",
    "\n",
    "nba_predict_select\n",
    "\n",
    "nba_rmse"
   ]
  },
  {
   "cell_type": "markdown",
   "id": "4929c070-5a85-4303-8b87-400eaf67129b",
   "metadata": {},
   "source": [
    "The final RMSPE for our model against the testing data is 1.9338. While this is still a significant amount of error, in the context of predicting sports performance, the predictions offered by our model are still useful. Visualization of the completed model's performance is difficult owing to the numerous variables involved. Below, each variable used to predict player score is depicted separately."
   ]
  },
  {
   "cell_type": "code",
   "execution_count": null,
   "id": "a715fe30-fbbf-4b1f-b08f-c72cc2464ee4",
   "metadata": {
    "tags": [],
    "vscode": {
     "languageId": "r"
    }
   },
   "outputs": [
    {
     "ename": "",
     "evalue": "",
     "output_type": "error",
     "traceback": [
      "\u001b[1;31mFailed to start the Kernel. \n",
      "\u001b[1;31mThe kernel 'R' was not started as it is located in an insecure location 'c:\\ProgramData\\jupyter\\kernels\\ir\\kernel.json'.  \n",
      "\u001b[1;31mClick <a href='https://aka.ms/JupyterTrustedKernelPaths'>here</a> for further details, optionally update the setting <a href='command:workbench.action.openSettings?[\"jupyter.kernels.trusted\"]'>jupyter.kernels.trusted</a> to trust the kernel."
     ]
    }
   ],
   "source": [
    "options(repr.plot.width = 10)\n",
    "nba_predict_plot_rebound <- ggplot(nba_training, aes(x = reb, y = pts)) +\n",
    "geom_point(alpha = 0.4) +\n",
    "geom_line(data = nba_predict, mapping = aes(x = reb, y = .pred), color = 'blue') +\n",
    "labs(x = \"Rebound\", y = \"Points\") +\n",
    "ggtitle(\"Rebound vs. Points Scored with Estimated Values\") +\n",
    "theme(text = element_text(size = 12))\n",
    "\n",
    "nba_predict_plot_rebound"
   ]
  },
  {
   "cell_type": "code",
   "execution_count": null,
   "id": "d438c716-9014-4748-b685-e5980165dac2",
   "metadata": {
    "tags": [],
    "vscode": {
     "languageId": "r"
    }
   },
   "outputs": [
    {
     "ename": "",
     "evalue": "",
     "output_type": "error",
     "traceback": [
      "\u001b[1;31mFailed to start the Kernel. \n",
      "\u001b[1;31mThe kernel 'R' was not started as it is located in an insecure location 'c:\\ProgramData\\jupyter\\kernels\\ir\\kernel.json'.  \n",
      "\u001b[1;31mClick <a href='https://aka.ms/JupyterTrustedKernelPaths'>here</a> for further details, optionally update the setting <a href='command:workbench.action.openSettings?[\"jupyter.kernels.trusted\"]'>jupyter.kernels.trusted</a> to trust the kernel."
     ]
    }
   ],
   "source": [
    "nba_predict_plot_assist <- ggplot(nba_training, aes(x = ast, y = pts)) +\n",
    "geom_point(alpha = 0.4) +\n",
    "geom_line(data = nba_predict, mapping = aes(x = ast, y = .pred), color = 'blue') +\n",
    "labs(x = \"Assists\", y = \"Points\") +\n",
    "ggtitle(\"Assists vs. Points Scored with Estimated Values\") +\n",
    "theme(text = element_text(size = 12))\n",
    "\n",
    "nba_predict_plot_assist"
   ]
  },
  {
   "cell_type": "code",
   "execution_count": null,
   "id": "29ee05b0-d06b-4164-b948-95bb9e2026a2",
   "metadata": {
    "tags": [],
    "vscode": {
     "languageId": "r"
    }
   },
   "outputs": [
    {
     "ename": "",
     "evalue": "",
     "output_type": "error",
     "traceback": [
      "\u001b[1;31mFailed to start the Kernel. \n",
      "\u001b[1;31mThe kernel 'R' was not started as it is located in an insecure location 'c:\\ProgramData\\jupyter\\kernels\\ir\\kernel.json'.  \n",
      "\u001b[1;31mClick <a href='https://aka.ms/JupyterTrustedKernelPaths'>here</a> for further details, optionally update the setting <a href='command:workbench.action.openSettings?[\"jupyter.kernels.trusted\"]'>jupyter.kernels.trusted</a> to trust the kernel."
     ]
    }
   ],
   "source": [
    "options(repr.plot.width = 18)\n",
    "\n",
    "nba_predict_plot_usage <- ggplot(nba_training, aes(x = usg_pct, y = pts)) +\n",
    "geom_point(alpha = 0.4) +\n",
    "geom_line(data = nba_predict, mapping = aes(x = usg_pct, y = .pred), color = 'blue') +\n",
    "labs(x = \"Usage Percent\", y = \"Points\") +\n",
    "ggtitle(\"Usage Percent vs. Points Scored with Estimated Values\") +\n",
    "theme(text = element_text(size = 14))\n",
    "\n",
    "nba_predict_plot_usage"
   ]
  },
  {
   "cell_type": "code",
   "execution_count": null,
   "id": "be3346e0-9a39-4b7a-a972-efb92e9c7c3a",
   "metadata": {
    "tags": [],
    "vscode": {
     "languageId": "r"
    }
   },
   "outputs": [
    {
     "ename": "",
     "evalue": "",
     "output_type": "error",
     "traceback": [
      "\u001b[1;31mFailed to start the Kernel. \n",
      "\u001b[1;31mThe kernel 'R' was not started as it is located in an insecure location 'c:\\ProgramData\\jupyter\\kernels\\ir\\kernel.json'.  \n",
      "\u001b[1;31mClick <a href='https://aka.ms/JupyterTrustedKernelPaths'>here</a> for further details, optionally update the setting <a href='command:workbench.action.openSettings?[\"jupyter.kernels.trusted\"]'>jupyter.kernels.trusted</a> to trust the kernel."
     ]
    }
   ],
   "source": [
    "options(repr.plot.width = 14)\n",
    "\n",
    "nba_predict_plot_shooting <- ggplot(nba_training, aes(x = ts_pct, y = pts)) +\n",
    "geom_point(alpha = 0.4) +\n",
    "geom_line(data = nba_predict, mapping = aes(x = ts_pct, y = .pred), color = 'blue') +\n",
    "labs(x = \"True Shooting Percentage\", y = \"Points\") +\n",
    "ggtitle(\"Trust Shooting Percent vs. Points Scored with Estimated Values\") +\n",
    "theme(text = element_text(size = 12))\n",
    "\n",
    "nba_predict_plot_shooting"
   ]
  },
  {
   "cell_type": "code",
   "execution_count": null,
   "id": "c702f698-4bbe-41be-9b1e-29b2ae29acad",
   "metadata": {
    "tags": [],
    "vscode": {
     "languageId": "r"
    }
   },
   "outputs": [
    {
     "ename": "",
     "evalue": "",
     "output_type": "error",
     "traceback": [
      "\u001b[1;31mFailed to start the Kernel. \n",
      "\u001b[1;31mThe kernel 'R' was not started as it is located in an insecure location 'c:\\ProgramData\\jupyter\\kernels\\ir\\kernel.json'.  \n",
      "\u001b[1;31mClick <a href='https://aka.ms/JupyterTrustedKernelPaths'>here</a> for further details, optionally update the setting <a href='command:workbench.action.openSettings?[\"jupyter.kernels.trusted\"]'>jupyter.kernels.trusted</a> to trust the kernel."
     ]
    }
   ],
   "source": [
    "options(repr.plot.width = 10)\n",
    "nba_predict_plot_dn <- ggplot(nba_training, aes(x = draft_number, y = pts)) +\n",
    "geom_point(alpha = 0.4) +\n",
    "geom_line(data = nba_predict, mapping = aes(x = draft_number, y = .pred), color = 'blue') +\n",
    "labs(x = \"Draft Number\", y = \"Points\") +\n",
    "ggtitle(\"Draft Number vs. Points Scored with Estimated Values\") +\n",
    "theme(text = element_text(size = 12))\n",
    "\n",
    "nba_predict_plot_dn"
   ]
  },
  {
   "cell_type": "markdown",
   "id": "d4b2e41d-ae53-4eb2-b829-ec3395df336a",
   "metadata": {},
   "source": [
    "Observe that the visualizations indicate that the data has been overplotted, with the model being heavily affected by each individual data point. Originally we attributed this to the low number of neighbors (7) relative to the data size, however, this behaviour is still present even when increasing neighbors. "
   ]
  },
  {
   "cell_type": "code",
   "execution_count": null,
   "id": "7859aac5-4264-43cc-b8e1-a22e5feae387",
   "metadata": {
    "tags": [],
    "vscode": {
     "languageId": "r"
    }
   },
   "outputs": [
    {
     "ename": "",
     "evalue": "",
     "output_type": "error",
     "traceback": [
      "\u001b[1;31mFailed to start the Kernel. \n",
      "\u001b[1;31mThe kernel 'R' was not started as it is located in an insecure location 'c:\\ProgramData\\jupyter\\kernels\\ir\\kernel.json'.  \n",
      "\u001b[1;31mClick <a href='https://aka.ms/JupyterTrustedKernelPaths'>here</a> for further details, optionally update the setting <a href='command:workbench.action.openSettings?[\"jupyter.kernels.trusted\"]'>jupyter.kernels.trusted</a> to trust the kernel."
     ]
    }
   ],
   "source": [
    "nba_demo_spec <- nearest_neighbor(weight_func = \"rectangular\", neighbors = 100) |>\n",
    "  set_engine(\"kknn\") |>\n",
    "  set_mode(\"regression\")\n",
    "\n",
    "nba_fit_demo <- workflow() |>\n",
    "  add_recipe(nba_recipe) |>\n",
    "  add_model(nba_demo_spec) |>\n",
    "  fit(data = nba_training)\n",
    "\n",
    "nba_predict_demo <- nba_fit_demo |>\n",
    "  predict(nba_testing) |>\n",
    "  bind_cols(nba_testing)\n",
    "\n",
    "nba_predict_demo_plot <- ggplot(nba_training, aes(x = reb, y = pts)) +\n",
    "geom_point(alpha = 0.4) +\n",
    "geom_line(data = nba_predict_demo, mapping = aes(x = reb, y = .pred), color = 'orange') +\n",
    "labs(x = \"Rebound\", y = \"Points\") +\n",
    "ggtitle(\"Rebound vs. Points Scored with Estimated Values Using 100 Neighbors\") +\n",
    "theme(text = element_text(size = 12))\n",
    "\n",
    "\n",
    "nba_predict_demo_plot\n",
    "nba_predict_plot_rebound"
   ]
  },
  {
   "cell_type": "markdown",
   "id": "90342956-25bc-45ed-9e5e-e9d4dba7dcb8",
   "metadata": {},
   "source": [
    "# Discussion"
   ]
  },
  {
   "cell_type": "markdown",
   "id": "ac933864-d9bd-48bd-b856-479d77f81fde",
   "metadata": {},
   "source": [
    "Through this analysis, we determined that by using certain measurements of player performance, such as assists per game, usage percentage, true shooting percentage, and player draft number, we were able provide reasonable estimates for the player’s average points per game. The final model had an RMSPE of 1.9 with our testing set. Though this is still a significant amount of error, we think that the predictions offered by this model could still be useful ((TODO: explain why)). Although we had expected that these variables to have some capability in predicting point performance, the accuracy of the predictions was somewhat unexpected. "
   ]
  },
  {
   "cell_type": "markdown",
   "id": "3498d78f-8aaf-4afc-ac48-fbde87750a5c",
   "metadata": {},
   "source": [
    "* summarize what you found\n",
    "* discuss whether this is what you expected to find?\n",
    "* discuss what impact could such findings have?\n",
    "* discuss what future questions could this lead to?"
   ]
  },
  {
   "cell_type": "markdown",
   "id": "2826218e-00a7-4212-a516-01d234213960",
   "metadata": {},
   "source": [
    "# References\n",
    "At least 2 citations of literature relevant to the project (format is your choice, just be consistent across the references).\n",
    "Make sure to cite the source of your data as well."
   ]
  },
  {
   "cell_type": "code",
   "execution_count": null,
   "id": "6e450d2a-c8d1-400d-977c-7273e001da7d",
   "metadata": {
    "vscode": {
     "languageId": "r"
    }
   },
   "outputs": [
    {
     "ename": "",
     "evalue": "",
     "output_type": "error",
     "traceback": [
      "\u001b[1;31mFailed to start the Kernel. \n",
      "\u001b[1;31mThe kernel 'R' was not started as it is located in an insecure location 'c:\\ProgramData\\jupyter\\kernels\\ir\\kernel.json'.  \n",
      "\u001b[1;31mClick <a href='https://aka.ms/JupyterTrustedKernelPaths'>here</a> for further details, optionally update the setting <a href='command:workbench.action.openSettings?[\"jupyter.kernels.trusted\"]'>jupyter.kernels.trusted</a> to trust the kernel."
     ]
    }
   ],
   "source": []
  }
 ],
 "metadata": {
  "kernelspec": {
   "display_name": "R",
   "language": "R",
   "name": "ir"
  },
  "language_info": {
   "codemirror_mode": "r",
   "file_extension": ".r",
   "mimetype": "text/x-r-source",
   "name": "R",
   "pygments_lexer": "r",
   "version": "4.2.3"
  }
 },
 "nbformat": 4,
 "nbformat_minor": 5
}
