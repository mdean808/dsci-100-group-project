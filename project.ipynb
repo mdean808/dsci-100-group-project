{
 "cells": [
  {
   "cell_type": "markdown",
   "id": "9b348cb1-70a7-4eb2-a472-ca88877885e7",
   "metadata": {},
   "source": [
    "<h1 style=\"text-align: center;\">Analyis of Point Production of NBA Players</h1>"
   ]
  },
  {
   "cell_type": "markdown",
   "id": "ccbab4e0-e83b-43e9-9a60-58e6fefb0424",
   "metadata": {},
   "source": [
    "# Introduction"
   ]
  },
  {
   "cell_type": "markdown",
   "id": "64fdbf77-9903-4840-86e5-445e375aedc2",
   "metadata": {},
   "source": [
    "Using this dataset of NBA player stats we want to perform a regression analysis of the selected variables to help predict the on-court performance of a player (their average points scored). To do so, all non-preformance related stats, including, age,  height, weight, and draft pick will be used. The season variable will also allow player preformances to be measured throughout time and compare NBA starts from all eras and styles of the game. All of these factors were selected because of their likelihood to correlate with stronger on-court performance.\n",
    "\n",
    "Our question: How do our selected factors help to predict the individual performance of NBA players? \n",
    "\n",
    "To do this, we will use [this dataset](https://www.kaggle.com/datasets/justinas/nba-players-data) from Kaggle. The data was acquired through the NBA API with missing information supplied by scraping from another NBA source (for this reason, the dataset was taken directly from Kaggle and not the original source). "
   ]
  },
  {
   "cell_type": "markdown",
   "id": "d221420a-7a33-47b0-a788-f2ddee71d70b",
   "metadata": {},
   "source": [
    "# Methods and Results"
   ]
  },
  {
   "cell_type": "markdown",
   "id": "841ca3b4-2eca-4dde-82a8-b1a6edc5fc3d",
   "metadata": {},
   "source": [
    "## Load Libraries"
   ]
  },
  {
   "cell_type": "code",
   "execution_count": 9,
   "id": "41bdac6b-3c67-4d84-a8ed-556d9e64df0d",
   "metadata": {},
   "outputs": [
    {
     "ename": "ERROR",
     "evalue": "Error in library(tidymodels): there is no package called ‘tidymodels’\n",
     "output_type": "error",
     "traceback": [
      "Error in library(tidymodels): there is no package called ‘tidymodels’\nTraceback:\n",
      "1. library(tidymodels)"
     ]
    }
   ],
   "source": [
    "library(tidyverse)\n",
    "library(tidymodels)\n",
    "library(repr)\n",
    "options(repr.matrix.max.rows = 6)"
   ]
  },
  {
   "cell_type": "markdown",
   "id": "09b87609-e85e-4a39-82c2-71d7a19e4ce7",
   "metadata": {},
   "source": [
    "## Dataset Load & Preperation"
   ]
  },
  {
   "cell_type": "markdown",
   "id": "d4f4d1f5-6319-4bcf-969c-da5b24b3b119",
   "metadata": {},
   "source": [
    "First we pull our dataset from the internet."
   ]
  },
  {
   "cell_type": "markdown",
   "id": "a3f2d409-22d2-4797-ba69-1c8afeaa7778",
   "metadata": {},
   "source": [
    "The dataset contains 22 variables, the majority of which we need to discard as being impractical to use, having little impact on player performance (player name) or being directly related to a performance variable. We will conduct analysis on the remaining selected variables to try and predict the average points a player will get per season using regression analysis. By first training a model on the training data for each respective datapoint category we will then be able to analyze the knn regression and decide which of the columns is most effective at indicating points production."
   ]
  },
  {
   "cell_type": "code",
   "execution_count": 10,
   "id": "d6996029-e9b9-4e03-badf-9a3bc3f1bdd6",
   "metadata": {},
   "outputs": [
    {
     "name": "stderr",
     "output_type": "stream",
     "text": [
      "\u001b[1m\u001b[22mNew names:\n",
      "\u001b[36m•\u001b[39m `` -> `...1`\n",
      "\u001b[1mRows: \u001b[22m\u001b[34m12305\u001b[39m \u001b[1mColumns: \u001b[22m\u001b[34m22\u001b[39m\n",
      "\u001b[36m──\u001b[39m \u001b[1mColumn specification\u001b[22m \u001b[36m────────────────────────────────────────────────────────\u001b[39m\n",
      "\u001b[1mDelimiter:\u001b[22m \",\"\n",
      "\u001b[31mchr\u001b[39m  (8): player_name, team_abbreviation, college, country, draft_year, draf...\n",
      "\u001b[32mdbl\u001b[39m (14): ...1, age, player_height, player_weight, gp, pts, reb, ast, net_ra...\n",
      "\n",
      "\u001b[36mℹ\u001b[39m Use `spec()` to retrieve the full column specification for this data.\n",
      "\u001b[36mℹ\u001b[39m Specify the column types or set `show_col_types = FALSE` to quiet this message.\n"
     ]
    },
    {
     "data": {
      "text/html": [
       "<table class=\"dataframe\">\n",
       "<caption>A tibble: 6 × 22</caption>\n",
       "<thead>\n",
       "\t<tr><th scope=col>...1</th><th scope=col>player_name</th><th scope=col>team_abbreviation</th><th scope=col>age</th><th scope=col>player_height</th><th scope=col>player_weight</th><th scope=col>college</th><th scope=col>country</th><th scope=col>draft_year</th><th scope=col>draft_round</th><th scope=col>⋯</th><th scope=col>pts</th><th scope=col>reb</th><th scope=col>ast</th><th scope=col>net_rating</th><th scope=col>oreb_pct</th><th scope=col>dreb_pct</th><th scope=col>usg_pct</th><th scope=col>ts_pct</th><th scope=col>ast_pct</th><th scope=col>season</th></tr>\n",
       "\t<tr><th scope=col>&lt;dbl&gt;</th><th scope=col>&lt;chr&gt;</th><th scope=col>&lt;chr&gt;</th><th scope=col>&lt;dbl&gt;</th><th scope=col>&lt;dbl&gt;</th><th scope=col>&lt;dbl&gt;</th><th scope=col>&lt;chr&gt;</th><th scope=col>&lt;chr&gt;</th><th scope=col>&lt;chr&gt;</th><th scope=col>&lt;chr&gt;</th><th scope=col>⋯</th><th scope=col>&lt;dbl&gt;</th><th scope=col>&lt;dbl&gt;</th><th scope=col>&lt;dbl&gt;</th><th scope=col>&lt;dbl&gt;</th><th scope=col>&lt;dbl&gt;</th><th scope=col>&lt;dbl&gt;</th><th scope=col>&lt;dbl&gt;</th><th scope=col>&lt;dbl&gt;</th><th scope=col>&lt;dbl&gt;</th><th scope=col>&lt;chr&gt;</th></tr>\n",
       "</thead>\n",
       "<tbody>\n",
       "\t<tr><td>0</td><td>Dennis Rodman    </td><td>CHI</td><td>36</td><td>198.12</td><td> 99.79024</td><td>Southeastern Oklahoma State</td><td>USA</td><td>1986</td><td>2</td><td>⋯</td><td>5.7</td><td>16.1</td><td>3.1</td><td> 16.1</td><td>0.186</td><td>0.323</td><td>0.100</td><td>0.479</td><td>0.113</td><td>1996-97</td></tr>\n",
       "\t<tr><td>1</td><td>Dwayne Schintzius</td><td>LAC</td><td>28</td><td>215.90</td><td>117.93392</td><td>Florida                    </td><td>USA</td><td>1990</td><td>1</td><td>⋯</td><td>2.3</td><td> 1.5</td><td>0.3</td><td> 12.3</td><td>0.078</td><td>0.151</td><td>0.175</td><td>0.430</td><td>0.048</td><td>1996-97</td></tr>\n",
       "\t<tr><td>2</td><td>Earl Cureton     </td><td>TOR</td><td>39</td><td>205.74</td><td> 95.25432</td><td>Detroit Mercy              </td><td>USA</td><td>1979</td><td>3</td><td>⋯</td><td>0.8</td><td> 1.0</td><td>0.4</td><td> -2.1</td><td>0.105</td><td>0.102</td><td>0.103</td><td>0.376</td><td>0.148</td><td>1996-97</td></tr>\n",
       "\t<tr><td>3</td><td>Ed O'Bannon      </td><td>DAL</td><td>24</td><td>203.20</td><td>100.69742</td><td>UCLA                       </td><td>USA</td><td>1995</td><td>1</td><td>⋯</td><td>3.7</td><td> 2.3</td><td>0.6</td><td> -8.7</td><td>0.060</td><td>0.149</td><td>0.167</td><td>0.399</td><td>0.077</td><td>1996-97</td></tr>\n",
       "\t<tr><td>4</td><td>Ed Pinckney      </td><td>MIA</td><td>34</td><td>205.74</td><td>108.86208</td><td>Villanova                  </td><td>USA</td><td>1985</td><td>1</td><td>⋯</td><td>2.4</td><td> 2.4</td><td>0.2</td><td>-11.2</td><td>0.109</td><td>0.179</td><td>0.127</td><td>0.611</td><td>0.040</td><td>1996-97</td></tr>\n",
       "\t<tr><td>5</td><td>Eddie Johnson    </td><td>HOU</td><td>38</td><td>200.66</td><td> 97.52228</td><td>Illinois                   </td><td>USA</td><td>1981</td><td>2</td><td>⋯</td><td>8.2</td><td> 2.7</td><td>1.0</td><td>  4.1</td><td>0.034</td><td>0.126</td><td>0.220</td><td>0.541</td><td>0.102</td><td>1996-97</td></tr>\n",
       "</tbody>\n",
       "</table>\n"
      ],
      "text/latex": [
       "A tibble: 6 × 22\n",
       "\\begin{tabular}{lllllllllllllllllllll}\n",
       " ...1 & player\\_name & team\\_abbreviation & age & player\\_height & player\\_weight & college & country & draft\\_year & draft\\_round & ⋯ & pts & reb & ast & net\\_rating & oreb\\_pct & dreb\\_pct & usg\\_pct & ts\\_pct & ast\\_pct & season\\\\\n",
       " <dbl> & <chr> & <chr> & <dbl> & <dbl> & <dbl> & <chr> & <chr> & <chr> & <chr> & ⋯ & <dbl> & <dbl> & <dbl> & <dbl> & <dbl> & <dbl> & <dbl> & <dbl> & <dbl> & <chr>\\\\\n",
       "\\hline\n",
       "\t 0 & Dennis Rodman     & CHI & 36 & 198.12 &  99.79024 & Southeastern Oklahoma State & USA & 1986 & 2 & ⋯ & 5.7 & 16.1 & 3.1 &  16.1 & 0.186 & 0.323 & 0.100 & 0.479 & 0.113 & 1996-97\\\\\n",
       "\t 1 & Dwayne Schintzius & LAC & 28 & 215.90 & 117.93392 & Florida                     & USA & 1990 & 1 & ⋯ & 2.3 &  1.5 & 0.3 &  12.3 & 0.078 & 0.151 & 0.175 & 0.430 & 0.048 & 1996-97\\\\\n",
       "\t 2 & Earl Cureton      & TOR & 39 & 205.74 &  95.25432 & Detroit Mercy               & USA & 1979 & 3 & ⋯ & 0.8 &  1.0 & 0.4 &  -2.1 & 0.105 & 0.102 & 0.103 & 0.376 & 0.148 & 1996-97\\\\\n",
       "\t 3 & Ed O'Bannon       & DAL & 24 & 203.20 & 100.69742 & UCLA                        & USA & 1995 & 1 & ⋯ & 3.7 &  2.3 & 0.6 &  -8.7 & 0.060 & 0.149 & 0.167 & 0.399 & 0.077 & 1996-97\\\\\n",
       "\t 4 & Ed Pinckney       & MIA & 34 & 205.74 & 108.86208 & Villanova                   & USA & 1985 & 1 & ⋯ & 2.4 &  2.4 & 0.2 & -11.2 & 0.109 & 0.179 & 0.127 & 0.611 & 0.040 & 1996-97\\\\\n",
       "\t 5 & Eddie Johnson     & HOU & 38 & 200.66 &  97.52228 & Illinois                    & USA & 1981 & 2 & ⋯ & 8.2 &  2.7 & 1.0 &   4.1 & 0.034 & 0.126 & 0.220 & 0.541 & 0.102 & 1996-97\\\\\n",
       "\\end{tabular}\n"
      ],
      "text/markdown": [
       "\n",
       "A tibble: 6 × 22\n",
       "\n",
       "| ...1 &lt;dbl&gt; | player_name &lt;chr&gt; | team_abbreviation &lt;chr&gt; | age &lt;dbl&gt; | player_height &lt;dbl&gt; | player_weight &lt;dbl&gt; | college &lt;chr&gt; | country &lt;chr&gt; | draft_year &lt;chr&gt; | draft_round &lt;chr&gt; | ⋯ ⋯ | pts &lt;dbl&gt; | reb &lt;dbl&gt; | ast &lt;dbl&gt; | net_rating &lt;dbl&gt; | oreb_pct &lt;dbl&gt; | dreb_pct &lt;dbl&gt; | usg_pct &lt;dbl&gt; | ts_pct &lt;dbl&gt; | ast_pct &lt;dbl&gt; | season &lt;chr&gt; |\n",
       "|---|---|---|---|---|---|---|---|---|---|---|---|---|---|---|---|---|---|---|---|---|\n",
       "| 0 | Dennis Rodman     | CHI | 36 | 198.12 |  99.79024 | Southeastern Oklahoma State | USA | 1986 | 2 | ⋯ | 5.7 | 16.1 | 3.1 |  16.1 | 0.186 | 0.323 | 0.100 | 0.479 | 0.113 | 1996-97 |\n",
       "| 1 | Dwayne Schintzius | LAC | 28 | 215.90 | 117.93392 | Florida                     | USA | 1990 | 1 | ⋯ | 2.3 |  1.5 | 0.3 |  12.3 | 0.078 | 0.151 | 0.175 | 0.430 | 0.048 | 1996-97 |\n",
       "| 2 | Earl Cureton      | TOR | 39 | 205.74 |  95.25432 | Detroit Mercy               | USA | 1979 | 3 | ⋯ | 0.8 |  1.0 | 0.4 |  -2.1 | 0.105 | 0.102 | 0.103 | 0.376 | 0.148 | 1996-97 |\n",
       "| 3 | Ed O'Bannon       | DAL | 24 | 203.20 | 100.69742 | UCLA                        | USA | 1995 | 1 | ⋯ | 3.7 |  2.3 | 0.6 |  -8.7 | 0.060 | 0.149 | 0.167 | 0.399 | 0.077 | 1996-97 |\n",
       "| 4 | Ed Pinckney       | MIA | 34 | 205.74 | 108.86208 | Villanova                   | USA | 1985 | 1 | ⋯ | 2.4 |  2.4 | 0.2 | -11.2 | 0.109 | 0.179 | 0.127 | 0.611 | 0.040 | 1996-97 |\n",
       "| 5 | Eddie Johnson     | HOU | 38 | 200.66 |  97.52228 | Illinois                    | USA | 1981 | 2 | ⋯ | 8.2 |  2.7 | 1.0 |   4.1 | 0.034 | 0.126 | 0.220 | 0.541 | 0.102 | 1996-97 |\n",
       "\n"
      ],
      "text/plain": [
       "  ...1 player_name       team_abbreviation age player_height player_weight\n",
       "1 0    Dennis Rodman     CHI               36  198.12         99.79024    \n",
       "2 1    Dwayne Schintzius LAC               28  215.90        117.93392    \n",
       "3 2    Earl Cureton      TOR               39  205.74         95.25432    \n",
       "4 3    Ed O'Bannon       DAL               24  203.20        100.69742    \n",
       "5 4    Ed Pinckney       MIA               34  205.74        108.86208    \n",
       "6 5    Eddie Johnson     HOU               38  200.66         97.52228    \n",
       "  college                     country draft_year draft_round ⋯ pts reb  ast\n",
       "1 Southeastern Oklahoma State USA     1986       2           ⋯ 5.7 16.1 3.1\n",
       "2 Florida                     USA     1990       1           ⋯ 2.3  1.5 0.3\n",
       "3 Detroit Mercy               USA     1979       3           ⋯ 0.8  1.0 0.4\n",
       "4 UCLA                        USA     1995       1           ⋯ 3.7  2.3 0.6\n",
       "5 Villanova                   USA     1985       1           ⋯ 2.4  2.4 0.2\n",
       "6 Illinois                    USA     1981       2           ⋯ 8.2  2.7 1.0\n",
       "  net_rating oreb_pct dreb_pct usg_pct ts_pct ast_pct season \n",
       "1  16.1      0.186    0.323    0.100   0.479  0.113   1996-97\n",
       "2  12.3      0.078    0.151    0.175   0.430  0.048   1996-97\n",
       "3  -2.1      0.105    0.102    0.103   0.376  0.148   1996-97\n",
       "4  -8.7      0.060    0.149    0.167   0.399  0.077   1996-97\n",
       "5 -11.2      0.109    0.179    0.127   0.611  0.040   1996-97\n",
       "6   4.1      0.034    0.126    0.220   0.541  0.102   1996-97"
      ]
     },
     "metadata": {},
     "output_type": "display_data"
    }
   ],
   "source": [
    "url <-\"https://raw.githubusercontent.com/mdean808/dsci-100-group-project/b11c50b091b2c4a554a2b7ff8f9e568e081b0f3c/all_seasons.csv\"\n",
    "\n",
    "\n",
    "temp <- tempfile()\n",
    "\n",
    "\n",
    "download.file(url, temp)\n",
    "# read the dataset from temp file\n",
    "player_data <- read_csv(temp)\n",
    "head(player_data)"
   ]
  },
  {
   "cell_type": "markdown",
   "id": "e7d0f2de-098e-4196-be94-5a984d5add6b",
   "metadata": {},
   "source": [
    "For our project, we will focus only on the specific parameters to judge the overall performance of an NBA player. \n",
    "\n",
    "Note that for `draft_round` players labeled as `Undrafted` were removed. Additionally, players drafted in or before 2000 are excluded, to keep the data used recent."
   ]
  },
  {
   "cell_type": "code",
   "execution_count": 11,
   "id": "c72f4886-c5e4-47e7-8f5a-aea2bdef7f02",
   "metadata": {},
   "outputs": [
    {
     "name": "stderr",
     "output_type": "stream",
     "text": [
      "Warning message:\n",
      "“\u001b[1m\u001b[22mThere was 1 warning in `mutate()`.\n",
      "\u001b[1m\u001b[22m\u001b[36mℹ\u001b[39m In argument: `draft_number = as.numeric(draft_number)`.\n",
      "Caused by warning:\n",
      "\u001b[33m!\u001b[39m NAs introduced by coercion”\n"
     ]
    },
    {
     "data": {
      "text/html": [
       "<table class=\"dataframe\">\n",
       "<caption>A tibble: 6171 × 7</caption>\n",
       "<thead>\n",
       "\t<tr><th scope=col>age</th><th scope=col>player_height</th><th scope=col>player_weight</th><th scope=col>net_rating</th><th scope=col>draft_number</th><th scope=col>draft_round</th><th scope=col>pts</th></tr>\n",
       "\t<tr><th scope=col>&lt;dbl&gt;</th><th scope=col>&lt;dbl&gt;</th><th scope=col>&lt;dbl&gt;</th><th scope=col>&lt;dbl&gt;</th><th scope=col>&lt;dbl&gt;</th><th scope=col>&lt;dbl&gt;</th><th scope=col>&lt;dbl&gt;</th></tr>\n",
       "</thead>\n",
       "<tbody>\n",
       "\t<tr><td>23</td><td>205.74</td><td>102.96538</td><td>-23.1</td><td>17</td><td>1</td><td> 1.2</td></tr>\n",
       "\t<tr><td>21</td><td>213.36</td><td>102.96538</td><td> -6.2</td><td> 3</td><td>1</td><td>17.6</td></tr>\n",
       "\t<tr><td>21</td><td>185.42</td><td> 79.83219</td><td> -5.0</td><td>53</td><td>2</td><td> 5.3</td></tr>\n",
       "\t<tr><td>21</td><td>200.66</td><td>100.69742</td><td> -0.2</td><td>11</td><td>1</td><td> 2.2</td></tr>\n",
       "\t<tr><td>21</td><td>193.04</td><td> 87.99685</td><td>-25.6</td><td>21</td><td>1</td><td> 0.8</td></tr>\n",
       "\t<tr><td>24</td><td>215.90</td><td>111.58363</td><td> -4.1</td><td>45</td><td>2</td><td> 1.8</td></tr>\n",
       "\t<tr><td>23</td><td>205.74</td><td>109.76926</td><td> -9.3</td><td>16</td><td>1</td><td> 1.7</td></tr>\n",
       "\t<tr><td>20</td><td>210.82</td><td>110.22286</td><td> -4.6</td><td> 1</td><td>1</td><td> 4.5</td></tr>\n",
       "\t<tr><td>23</td><td>195.58</td><td> 90.71840</td><td>-10.3</td><td>29</td><td>2</td><td> 8.7</td></tr>\n",
       "\t<tr><td>20</td><td>187.96</td><td> 80.28578</td><td>  5.8</td><td>28</td><td>1</td><td> 9.2</td></tr>\n",
       "\t<tr><td>23</td><td>205.74</td><td>100.24383</td><td>-11.0</td><td>33</td><td>2</td><td> 3.8</td></tr>\n",
       "\t<tr><td>22</td><td>210.82</td><td>111.13004</td><td> -8.2</td><td>14</td><td>1</td><td> 5.9</td></tr>\n",
       "\t<tr><td>20</td><td>205.74</td><td>122.46984</td><td> -3.7</td><td>19</td><td>1</td><td> 2.8</td></tr>\n",
       "\t<tr><td>23</td><td>185.42</td><td> 83.91452</td><td> -6.8</td><td>32</td><td>2</td><td> 5.2</td></tr>\n",
       "\t<tr><td>21</td><td>208.28</td><td>106.14053</td><td>  3.3</td><td>12</td><td>1</td><td> 6.7</td></tr>\n",
       "\t<tr><td>19</td><td>215.90</td><td>106.59412</td><td> -7.1</td><td> 2</td><td>1</td><td> 6.1</td></tr>\n",
       "\t<tr><td>24</td><td>213.36</td><td>111.13004</td><td>-12.8</td><td>49</td><td>2</td><td> 1.2</td></tr>\n",
       "\t<tr><td>22</td><td>205.74</td><td>107.95490</td><td>  6.6</td><td> 9</td><td>1</td><td> 3.5</td></tr>\n",
       "\t<tr><td>22</td><td>200.66</td><td>100.69742</td><td>  2.7</td><td>13</td><td>1</td><td> 9.4</td></tr>\n",
       "\t<tr><td>22</td><td>210.82</td><td>113.39800</td><td> -4.5</td><td>26</td><td>1</td><td> 1.5</td></tr>\n",
       "\t<tr><td>20</td><td>208.28</td><td>101.60461</td><td> -7.1</td><td>15</td><td>1</td><td> 3.6</td></tr>\n",
       "\t<tr><td>23</td><td>203.20</td><td> 99.79024</td><td> -5.6</td><td> 6</td><td>1</td><td>14.4</td></tr>\n",
       "\t<tr><td>21</td><td>200.66</td><td>102.05820</td><td> -0.4</td><td>10</td><td>1</td><td> 7.5</td></tr>\n",
       "\t<tr><td>20</td><td>213.36</td><td>136.07760</td><td> -1.4</td><td> 8</td><td>1</td><td> 1.4</td></tr>\n",
       "\t<tr><td>23</td><td>203.20</td><td> 91.62558</td><td>-10.1</td><td>36</td><td>2</td><td> 1.4</td></tr>\n",
       "\t<tr><td>23</td><td>210.82</td><td>120.20188</td><td> -3.8</td><td>56</td><td>2</td><td> 1.1</td></tr>\n",
       "\t<tr><td>21</td><td>205.74</td><td>124.73780</td><td> -8.7</td><td>50</td><td>2</td><td> 3.1</td></tr>\n",
       "\t<tr><td>24</td><td>205.74</td><td>108.86208</td><td>  2.4</td><td>34</td><td>2</td><td> 2.1</td></tr>\n",
       "\t<tr><td>22</td><td>213.36</td><td>120.65547</td><td> -1.3</td><td>20</td><td>1</td><td> 5.1</td></tr>\n",
       "\t<tr><td>22</td><td>195.58</td><td> 85.27530</td><td> -8.9</td><td>23</td><td>1</td><td> 1.8</td></tr>\n",
       "\t<tr><td>⋮</td><td>⋮</td><td>⋮</td><td>⋮</td><td>⋮</td><td>⋮</td><td>⋮</td></tr>\n",
       "\t<tr><td>31</td><td>208.28</td><td>117.93392</td><td> -1.6</td><td>16</td><td>1</td><td>17.6</td></tr>\n",
       "\t<tr><td>27</td><td>210.82</td><td>128.82013</td><td>  8.4</td><td>41</td><td>2</td><td>27.1</td></tr>\n",
       "\t<tr><td>28</td><td>198.12</td><td> 93.89354</td><td> 19.3</td><td> 8</td><td>1</td><td> 2.3</td></tr>\n",
       "\t<tr><td>33</td><td>203.20</td><td>104.32616</td><td> -4.4</td><td>25</td><td>1</td><td> 8.3</td></tr>\n",
       "\t<tr><td>23</td><td>195.58</td><td> 92.98636</td><td> -3.1</td><td>17</td><td>1</td><td>10.6</td></tr>\n",
       "\t<tr><td>24</td><td>213.36</td><td>111.13004</td><td>-13.0</td><td>42</td><td>2</td><td> 3.0</td></tr>\n",
       "\t<tr><td>23</td><td>210.82</td><td> 97.52228</td><td> -0.4</td><td>31</td><td>2</td><td> 8.7</td></tr>\n",
       "\t<tr><td>28</td><td>210.82</td><td> 99.79024</td><td> -5.7</td><td> 6</td><td>1</td><td> 3.4</td></tr>\n",
       "\t<tr><td>34</td><td>205.74</td><td>106.14053</td><td>  5.2</td><td>35</td><td>2</td><td> 6.1</td></tr>\n",
       "\t<tr><td>22</td><td>213.36</td><td>112.49082</td><td> -4.1</td><td>39</td><td>2</td><td> 3.0</td></tr>\n",
       "\t<tr><td>23</td><td>193.04</td><td> 92.53277</td><td> -3.0</td><td>18</td><td>1</td><td>12.1</td></tr>\n",
       "\t<tr><td>25</td><td>195.58</td><td> 97.52228</td><td>-38.8</td><td>35</td><td>2</td><td>10.7</td></tr>\n",
       "\t<tr><td>24</td><td>190.50</td><td> 90.71840</td><td>  0.3</td><td>11</td><td>1</td><td>13.8</td></tr>\n",
       "\t<tr><td>25</td><td>193.04</td><td> 84.82170</td><td>  2.0</td><td>19</td><td>1</td><td>12.1</td></tr>\n",
       "\t<tr><td>29</td><td>195.58</td><td>103.87257</td><td> -0.4</td><td>36</td><td>2</td><td>19.1</td></tr>\n",
       "\t<tr><td>24</td><td>185.42</td><td> 79.37860</td><td> -2.6</td><td>29</td><td>1</td><td> 4.3</td></tr>\n",
       "\t<tr><td>26</td><td>195.58</td><td> 93.43995</td><td>  3.4</td><td>12</td><td>1</td><td>11.9</td></tr>\n",
       "\t<tr><td>23</td><td>208.28</td><td>110.22286</td><td> -6.3</td><td>52</td><td>2</td><td> 5.8</td></tr>\n",
       "\t<tr><td>23</td><td>200.66</td><td>104.32616</td><td>  3.5</td><td> 3</td><td>1</td><td>28.4</td></tr>\n",
       "\t<tr><td>35</td><td>187.96</td><td> 79.37860</td><td>  0.8</td><td>45</td><td>2</td><td> 6.3</td></tr>\n",
       "\t<tr><td>32</td><td>203.20</td><td> 98.88306</td><td> -4.8</td><td>14</td><td>1</td><td>15.4</td></tr>\n",
       "\t<tr><td>29</td><td>200.66</td><td> 99.79024</td><td> -4.2</td><td>15</td><td>1</td><td> 4.6</td></tr>\n",
       "\t<tr><td>25</td><td>195.58</td><td> 91.17199</td><td>  3.8</td><td>20</td><td>1</td><td> 5.7</td></tr>\n",
       "\t<tr><td>32</td><td>210.82</td><td>115.21237</td><td>  0.9</td><td>22</td><td>1</td><td> 6.5</td></tr>\n",
       "\t<tr><td>23</td><td>210.82</td><td>106.59412</td><td> -5.6</td><td> 2</td><td>1</td><td>11.3</td></tr>\n",
       "\t<tr><td>24</td><td>205.74</td><td>108.86208</td><td> -2.1</td><td> 8</td><td>1</td><td> 4.5</td></tr>\n",
       "\t<tr><td>22</td><td>210.82</td><td> 99.79024</td><td>  1.2</td><td>44</td><td>2</td><td> 1.9</td></tr>\n",
       "\t<tr><td>32</td><td>205.74</td><td>111.13004</td><td>  4.5</td><td>13</td><td>1</td><td> 7.6</td></tr>\n",
       "\t<tr><td>24</td><td>193.04</td><td> 94.80073</td><td> -5.3</td><td> 1</td><td>1</td><td>10.8</td></tr>\n",
       "\t<tr><td>28</td><td>193.04</td><td> 99.79024</td><td>  9.3</td><td> 6</td><td>1</td><td>12.1</td></tr>\n",
       "</tbody>\n",
       "</table>\n"
      ],
      "text/latex": [
       "A tibble: 6171 × 7\n",
       "\\begin{tabular}{lllllll}\n",
       " age & player\\_height & player\\_weight & net\\_rating & draft\\_number & draft\\_round & pts\\\\\n",
       " <dbl> & <dbl> & <dbl> & <dbl> & <dbl> & <dbl> & <dbl>\\\\\n",
       "\\hline\n",
       "\t 23 & 205.74 & 102.96538 & -23.1 & 17 & 1 &  1.2\\\\\n",
       "\t 21 & 213.36 & 102.96538 &  -6.2 &  3 & 1 & 17.6\\\\\n",
       "\t 21 & 185.42 &  79.83219 &  -5.0 & 53 & 2 &  5.3\\\\\n",
       "\t 21 & 200.66 & 100.69742 &  -0.2 & 11 & 1 &  2.2\\\\\n",
       "\t 21 & 193.04 &  87.99685 & -25.6 & 21 & 1 &  0.8\\\\\n",
       "\t 24 & 215.90 & 111.58363 &  -4.1 & 45 & 2 &  1.8\\\\\n",
       "\t 23 & 205.74 & 109.76926 &  -9.3 & 16 & 1 &  1.7\\\\\n",
       "\t 20 & 210.82 & 110.22286 &  -4.6 &  1 & 1 &  4.5\\\\\n",
       "\t 23 & 195.58 &  90.71840 & -10.3 & 29 & 2 &  8.7\\\\\n",
       "\t 20 & 187.96 &  80.28578 &   5.8 & 28 & 1 &  9.2\\\\\n",
       "\t 23 & 205.74 & 100.24383 & -11.0 & 33 & 2 &  3.8\\\\\n",
       "\t 22 & 210.82 & 111.13004 &  -8.2 & 14 & 1 &  5.9\\\\\n",
       "\t 20 & 205.74 & 122.46984 &  -3.7 & 19 & 1 &  2.8\\\\\n",
       "\t 23 & 185.42 &  83.91452 &  -6.8 & 32 & 2 &  5.2\\\\\n",
       "\t 21 & 208.28 & 106.14053 &   3.3 & 12 & 1 &  6.7\\\\\n",
       "\t 19 & 215.90 & 106.59412 &  -7.1 &  2 & 1 &  6.1\\\\\n",
       "\t 24 & 213.36 & 111.13004 & -12.8 & 49 & 2 &  1.2\\\\\n",
       "\t 22 & 205.74 & 107.95490 &   6.6 &  9 & 1 &  3.5\\\\\n",
       "\t 22 & 200.66 & 100.69742 &   2.7 & 13 & 1 &  9.4\\\\\n",
       "\t 22 & 210.82 & 113.39800 &  -4.5 & 26 & 1 &  1.5\\\\\n",
       "\t 20 & 208.28 & 101.60461 &  -7.1 & 15 & 1 &  3.6\\\\\n",
       "\t 23 & 203.20 &  99.79024 &  -5.6 &  6 & 1 & 14.4\\\\\n",
       "\t 21 & 200.66 & 102.05820 &  -0.4 & 10 & 1 &  7.5\\\\\n",
       "\t 20 & 213.36 & 136.07760 &  -1.4 &  8 & 1 &  1.4\\\\\n",
       "\t 23 & 203.20 &  91.62558 & -10.1 & 36 & 2 &  1.4\\\\\n",
       "\t 23 & 210.82 & 120.20188 &  -3.8 & 56 & 2 &  1.1\\\\\n",
       "\t 21 & 205.74 & 124.73780 &  -8.7 & 50 & 2 &  3.1\\\\\n",
       "\t 24 & 205.74 & 108.86208 &   2.4 & 34 & 2 &  2.1\\\\\n",
       "\t 22 & 213.36 & 120.65547 &  -1.3 & 20 & 1 &  5.1\\\\\n",
       "\t 22 & 195.58 &  85.27530 &  -8.9 & 23 & 1 &  1.8\\\\\n",
       "\t ⋮ & ⋮ & ⋮ & ⋮ & ⋮ & ⋮ & ⋮\\\\\n",
       "\t 31 & 208.28 & 117.93392 &  -1.6 & 16 & 1 & 17.6\\\\\n",
       "\t 27 & 210.82 & 128.82013 &   8.4 & 41 & 2 & 27.1\\\\\n",
       "\t 28 & 198.12 &  93.89354 &  19.3 &  8 & 1 &  2.3\\\\\n",
       "\t 33 & 203.20 & 104.32616 &  -4.4 & 25 & 1 &  8.3\\\\\n",
       "\t 23 & 195.58 &  92.98636 &  -3.1 & 17 & 1 & 10.6\\\\\n",
       "\t 24 & 213.36 & 111.13004 & -13.0 & 42 & 2 &  3.0\\\\\n",
       "\t 23 & 210.82 &  97.52228 &  -0.4 & 31 & 2 &  8.7\\\\\n",
       "\t 28 & 210.82 &  99.79024 &  -5.7 &  6 & 1 &  3.4\\\\\n",
       "\t 34 & 205.74 & 106.14053 &   5.2 & 35 & 2 &  6.1\\\\\n",
       "\t 22 & 213.36 & 112.49082 &  -4.1 & 39 & 2 &  3.0\\\\\n",
       "\t 23 & 193.04 &  92.53277 &  -3.0 & 18 & 1 & 12.1\\\\\n",
       "\t 25 & 195.58 &  97.52228 & -38.8 & 35 & 2 & 10.7\\\\\n",
       "\t 24 & 190.50 &  90.71840 &   0.3 & 11 & 1 & 13.8\\\\\n",
       "\t 25 & 193.04 &  84.82170 &   2.0 & 19 & 1 & 12.1\\\\\n",
       "\t 29 & 195.58 & 103.87257 &  -0.4 & 36 & 2 & 19.1\\\\\n",
       "\t 24 & 185.42 &  79.37860 &  -2.6 & 29 & 1 &  4.3\\\\\n",
       "\t 26 & 195.58 &  93.43995 &   3.4 & 12 & 1 & 11.9\\\\\n",
       "\t 23 & 208.28 & 110.22286 &  -6.3 & 52 & 2 &  5.8\\\\\n",
       "\t 23 & 200.66 & 104.32616 &   3.5 &  3 & 1 & 28.4\\\\\n",
       "\t 35 & 187.96 &  79.37860 &   0.8 & 45 & 2 &  6.3\\\\\n",
       "\t 32 & 203.20 &  98.88306 &  -4.8 & 14 & 1 & 15.4\\\\\n",
       "\t 29 & 200.66 &  99.79024 &  -4.2 & 15 & 1 &  4.6\\\\\n",
       "\t 25 & 195.58 &  91.17199 &   3.8 & 20 & 1 &  5.7\\\\\n",
       "\t 32 & 210.82 & 115.21237 &   0.9 & 22 & 1 &  6.5\\\\\n",
       "\t 23 & 210.82 & 106.59412 &  -5.6 &  2 & 1 & 11.3\\\\\n",
       "\t 24 & 205.74 & 108.86208 &  -2.1 &  8 & 1 &  4.5\\\\\n",
       "\t 22 & 210.82 &  99.79024 &   1.2 & 44 & 2 &  1.9\\\\\n",
       "\t 32 & 205.74 & 111.13004 &   4.5 & 13 & 1 &  7.6\\\\\n",
       "\t 24 & 193.04 &  94.80073 &  -5.3 &  1 & 1 & 10.8\\\\\n",
       "\t 28 & 193.04 &  99.79024 &   9.3 &  6 & 1 & 12.1\\\\\n",
       "\\end{tabular}\n"
      ],
      "text/markdown": [
       "\n",
       "A tibble: 6171 × 7\n",
       "\n",
       "| age &lt;dbl&gt; | player_height &lt;dbl&gt; | player_weight &lt;dbl&gt; | net_rating &lt;dbl&gt; | draft_number &lt;dbl&gt; | draft_round &lt;dbl&gt; | pts &lt;dbl&gt; |\n",
       "|---|---|---|---|---|---|---|\n",
       "| 23 | 205.74 | 102.96538 | -23.1 | 17 | 1 |  1.2 |\n",
       "| 21 | 213.36 | 102.96538 |  -6.2 |  3 | 1 | 17.6 |\n",
       "| 21 | 185.42 |  79.83219 |  -5.0 | 53 | 2 |  5.3 |\n",
       "| 21 | 200.66 | 100.69742 |  -0.2 | 11 | 1 |  2.2 |\n",
       "| 21 | 193.04 |  87.99685 | -25.6 | 21 | 1 |  0.8 |\n",
       "| 24 | 215.90 | 111.58363 |  -4.1 | 45 | 2 |  1.8 |\n",
       "| 23 | 205.74 | 109.76926 |  -9.3 | 16 | 1 |  1.7 |\n",
       "| 20 | 210.82 | 110.22286 |  -4.6 |  1 | 1 |  4.5 |\n",
       "| 23 | 195.58 |  90.71840 | -10.3 | 29 | 2 |  8.7 |\n",
       "| 20 | 187.96 |  80.28578 |   5.8 | 28 | 1 |  9.2 |\n",
       "| 23 | 205.74 | 100.24383 | -11.0 | 33 | 2 |  3.8 |\n",
       "| 22 | 210.82 | 111.13004 |  -8.2 | 14 | 1 |  5.9 |\n",
       "| 20 | 205.74 | 122.46984 |  -3.7 | 19 | 1 |  2.8 |\n",
       "| 23 | 185.42 |  83.91452 |  -6.8 | 32 | 2 |  5.2 |\n",
       "| 21 | 208.28 | 106.14053 |   3.3 | 12 | 1 |  6.7 |\n",
       "| 19 | 215.90 | 106.59412 |  -7.1 |  2 | 1 |  6.1 |\n",
       "| 24 | 213.36 | 111.13004 | -12.8 | 49 | 2 |  1.2 |\n",
       "| 22 | 205.74 | 107.95490 |   6.6 |  9 | 1 |  3.5 |\n",
       "| 22 | 200.66 | 100.69742 |   2.7 | 13 | 1 |  9.4 |\n",
       "| 22 | 210.82 | 113.39800 |  -4.5 | 26 | 1 |  1.5 |\n",
       "| 20 | 208.28 | 101.60461 |  -7.1 | 15 | 1 |  3.6 |\n",
       "| 23 | 203.20 |  99.79024 |  -5.6 |  6 | 1 | 14.4 |\n",
       "| 21 | 200.66 | 102.05820 |  -0.4 | 10 | 1 |  7.5 |\n",
       "| 20 | 213.36 | 136.07760 |  -1.4 |  8 | 1 |  1.4 |\n",
       "| 23 | 203.20 |  91.62558 | -10.1 | 36 | 2 |  1.4 |\n",
       "| 23 | 210.82 | 120.20188 |  -3.8 | 56 | 2 |  1.1 |\n",
       "| 21 | 205.74 | 124.73780 |  -8.7 | 50 | 2 |  3.1 |\n",
       "| 24 | 205.74 | 108.86208 |   2.4 | 34 | 2 |  2.1 |\n",
       "| 22 | 213.36 | 120.65547 |  -1.3 | 20 | 1 |  5.1 |\n",
       "| 22 | 195.58 |  85.27530 |  -8.9 | 23 | 1 |  1.8 |\n",
       "| ⋮ | ⋮ | ⋮ | ⋮ | ⋮ | ⋮ | ⋮ |\n",
       "| 31 | 208.28 | 117.93392 |  -1.6 | 16 | 1 | 17.6 |\n",
       "| 27 | 210.82 | 128.82013 |   8.4 | 41 | 2 | 27.1 |\n",
       "| 28 | 198.12 |  93.89354 |  19.3 |  8 | 1 |  2.3 |\n",
       "| 33 | 203.20 | 104.32616 |  -4.4 | 25 | 1 |  8.3 |\n",
       "| 23 | 195.58 |  92.98636 |  -3.1 | 17 | 1 | 10.6 |\n",
       "| 24 | 213.36 | 111.13004 | -13.0 | 42 | 2 |  3.0 |\n",
       "| 23 | 210.82 |  97.52228 |  -0.4 | 31 | 2 |  8.7 |\n",
       "| 28 | 210.82 |  99.79024 |  -5.7 |  6 | 1 |  3.4 |\n",
       "| 34 | 205.74 | 106.14053 |   5.2 | 35 | 2 |  6.1 |\n",
       "| 22 | 213.36 | 112.49082 |  -4.1 | 39 | 2 |  3.0 |\n",
       "| 23 | 193.04 |  92.53277 |  -3.0 | 18 | 1 | 12.1 |\n",
       "| 25 | 195.58 |  97.52228 | -38.8 | 35 | 2 | 10.7 |\n",
       "| 24 | 190.50 |  90.71840 |   0.3 | 11 | 1 | 13.8 |\n",
       "| 25 | 193.04 |  84.82170 |   2.0 | 19 | 1 | 12.1 |\n",
       "| 29 | 195.58 | 103.87257 |  -0.4 | 36 | 2 | 19.1 |\n",
       "| 24 | 185.42 |  79.37860 |  -2.6 | 29 | 1 |  4.3 |\n",
       "| 26 | 195.58 |  93.43995 |   3.4 | 12 | 1 | 11.9 |\n",
       "| 23 | 208.28 | 110.22286 |  -6.3 | 52 | 2 |  5.8 |\n",
       "| 23 | 200.66 | 104.32616 |   3.5 |  3 | 1 | 28.4 |\n",
       "| 35 | 187.96 |  79.37860 |   0.8 | 45 | 2 |  6.3 |\n",
       "| 32 | 203.20 |  98.88306 |  -4.8 | 14 | 1 | 15.4 |\n",
       "| 29 | 200.66 |  99.79024 |  -4.2 | 15 | 1 |  4.6 |\n",
       "| 25 | 195.58 |  91.17199 |   3.8 | 20 | 1 |  5.7 |\n",
       "| 32 | 210.82 | 115.21237 |   0.9 | 22 | 1 |  6.5 |\n",
       "| 23 | 210.82 | 106.59412 |  -5.6 |  2 | 1 | 11.3 |\n",
       "| 24 | 205.74 | 108.86208 |  -2.1 |  8 | 1 |  4.5 |\n",
       "| 22 | 210.82 |  99.79024 |   1.2 | 44 | 2 |  1.9 |\n",
       "| 32 | 205.74 | 111.13004 |   4.5 | 13 | 1 |  7.6 |\n",
       "| 24 | 193.04 |  94.80073 |  -5.3 |  1 | 1 | 10.8 |\n",
       "| 28 | 193.04 |  99.79024 |   9.3 |  6 | 1 | 12.1 |\n",
       "\n"
      ],
      "text/plain": [
       "     age player_height player_weight net_rating draft_number draft_round pts \n",
       "1    23  205.74        102.96538     -23.1      17           1            1.2\n",
       "2    21  213.36        102.96538      -6.2       3           1           17.6\n",
       "3    21  185.42         79.83219      -5.0      53           2            5.3\n",
       "4    21  200.66        100.69742      -0.2      11           1            2.2\n",
       "5    21  193.04         87.99685     -25.6      21           1            0.8\n",
       "6    24  215.90        111.58363      -4.1      45           2            1.8\n",
       "7    23  205.74        109.76926      -9.3      16           1            1.7\n",
       "8    20  210.82        110.22286      -4.6       1           1            4.5\n",
       "9    23  195.58         90.71840     -10.3      29           2            8.7\n",
       "10   20  187.96         80.28578       5.8      28           1            9.2\n",
       "11   23  205.74        100.24383     -11.0      33           2            3.8\n",
       "12   22  210.82        111.13004      -8.2      14           1            5.9\n",
       "13   20  205.74        122.46984      -3.7      19           1            2.8\n",
       "14   23  185.42         83.91452      -6.8      32           2            5.2\n",
       "15   21  208.28        106.14053       3.3      12           1            6.7\n",
       "16   19  215.90        106.59412      -7.1       2           1            6.1\n",
       "17   24  213.36        111.13004     -12.8      49           2            1.2\n",
       "18   22  205.74        107.95490       6.6       9           1            3.5\n",
       "19   22  200.66        100.69742       2.7      13           1            9.4\n",
       "20   22  210.82        113.39800      -4.5      26           1            1.5\n",
       "21   20  208.28        101.60461      -7.1      15           1            3.6\n",
       "22   23  203.20         99.79024      -5.6       6           1           14.4\n",
       "23   21  200.66        102.05820      -0.4      10           1            7.5\n",
       "24   20  213.36        136.07760      -1.4       8           1            1.4\n",
       "25   23  203.20         91.62558     -10.1      36           2            1.4\n",
       "26   23  210.82        120.20188      -3.8      56           2            1.1\n",
       "27   21  205.74        124.73780      -8.7      50           2            3.1\n",
       "28   24  205.74        108.86208       2.4      34           2            2.1\n",
       "29   22  213.36        120.65547      -1.3      20           1            5.1\n",
       "30   22  195.58         85.27530      -8.9      23           1            1.8\n",
       "⋮    ⋮   ⋮             ⋮             ⋮          ⋮            ⋮           ⋮   \n",
       "6142 31  208.28        117.93392      -1.6      16           1           17.6\n",
       "6143 27  210.82        128.82013       8.4      41           2           27.1\n",
       "6144 28  198.12         93.89354      19.3       8           1            2.3\n",
       "6145 33  203.20        104.32616      -4.4      25           1            8.3\n",
       "6146 23  195.58         92.98636      -3.1      17           1           10.6\n",
       "6147 24  213.36        111.13004     -13.0      42           2            3.0\n",
       "6148 23  210.82         97.52228      -0.4      31           2            8.7\n",
       "6149 28  210.82         99.79024      -5.7       6           1            3.4\n",
       "6150 34  205.74        106.14053       5.2      35           2            6.1\n",
       "6151 22  213.36        112.49082      -4.1      39           2            3.0\n",
       "6152 23  193.04         92.53277      -3.0      18           1           12.1\n",
       "6153 25  195.58         97.52228     -38.8      35           2           10.7\n",
       "6154 24  190.50         90.71840       0.3      11           1           13.8\n",
       "6155 25  193.04         84.82170       2.0      19           1           12.1\n",
       "6156 29  195.58        103.87257      -0.4      36           2           19.1\n",
       "6157 24  185.42         79.37860      -2.6      29           1            4.3\n",
       "6158 26  195.58         93.43995       3.4      12           1           11.9\n",
       "6159 23  208.28        110.22286      -6.3      52           2            5.8\n",
       "6160 23  200.66        104.32616       3.5       3           1           28.4\n",
       "6161 35  187.96         79.37860       0.8      45           2            6.3\n",
       "6162 32  203.20         98.88306      -4.8      14           1           15.4\n",
       "6163 29  200.66         99.79024      -4.2      15           1            4.6\n",
       "6164 25  195.58         91.17199       3.8      20           1            5.7\n",
       "6165 32  210.82        115.21237       0.9      22           1            6.5\n",
       "6166 23  210.82        106.59412      -5.6       2           1           11.3\n",
       "6167 24  205.74        108.86208      -2.1       8           1            4.5\n",
       "6168 22  210.82         99.79024       1.2      44           2            1.9\n",
       "6169 32  205.74        111.13004       4.5      13           1            7.6\n",
       "6170 24  193.04         94.80073      -5.3       1           1           10.8\n",
       "6171 28  193.04         99.79024       9.3       6           1           12.1"
      ]
     },
     "metadata": {},
     "output_type": "display_data"
    }
   ],
   "source": [
    "nba_players <- player_data |>\n",
    "    filter(draft_year > 2000) |>\n",
    "    select(age, player_height, player_weight, net_rating, draft_number, draft_round, pts) |>\n",
    "    # remove undrafted players and convert draft_number to dbl\n",
    "    filter(draft_round != \"Undrafted\") |>\n",
    "    mutate(draft_round = as.numeric(draft_round)) |>\n",
    "    mutate(draft_number = as.numeric(draft_number))\n",
    "                \n",
    "nba_players"
   ]
  },
  {
   "cell_type": "markdown",
   "id": "4c301517-3955-4f75-a3fc-fa87f2eb1b6e",
   "metadata": {},
   "source": [
    "Now we will split the data into training and testing. We will use the training data to build our regression model and our testing data to test the validity of our model. "
   ]
  },
  {
   "cell_type": "code",
   "execution_count": 25,
   "id": "09aac6af-cca7-4c47-b7c9-c754401dd5a2",
   "metadata": {},
   "outputs": [
    {
     "ename": "ERROR",
     "evalue": "Error in initial_split(nba_players, prop = 0.75, strata = pts): could not find function \"initial_split\"\n",
     "output_type": "error",
     "traceback": [
      "Error in initial_split(nba_players, prop = 0.75, strata = pts): could not find function \"initial_split\"\nTraceback:\n"
     ]
    }
   ],
   "source": [
    "set.seed(\"1234\")\n",
    "nba_players_split <- initial_split(nba_players, prop = 0.75, strata = pts)\n",
    "nba_training <- training(nba_players_split)\n",
    "nba_testing <- testing(nba_players_split)\n",
    "\n",
    "nba_training"
   ]
  },
  {
   "cell_type": "markdown",
   "id": "be54ad56-34c6-49fe-b70a-352015c7a5e6",
   "metadata": {},
   "source": [
    "# Dataset Visualization"
   ]
  },
  {
   "cell_type": "markdown",
   "id": "e3a2d4c8-309f-42f3-ba6c-4b323c8d115a",
   "metadata": {},
   "source": [
    "Now we will look at the correlation of multiple parameters compared with points. This will allow us to predict which parameters strongly influence overall points scored before we build our regression model. "
   ]
  },
  {
   "cell_type": "code",
   "execution_count": 13,
   "id": "589c72dd-0d3c-4170-be66-4e9f5e10af35",
   "metadata": {},
   "outputs": [
    {
     "ename": "ERROR",
     "evalue": "Error in ggplot(nba_training, aes(x = age, y = pts)): object 'nba_training' not found\n",
     "output_type": "error",
     "traceback": [
      "Error in ggplot(nba_training, aes(x = age, y = pts)): object 'nba_training' not found\nTraceback:\n",
      "1. ggplot(nba_training, aes(x = age, y = pts))"
     ]
    }
   ],
   "source": [
    "options(repr.plot.width = 10)\n",
    "\n",
    "nba_plot_age <- ggplot(nba_training, aes(x = age, y = pts)) +\n",
    "geom_point() +\n",
    "labs(x = \"Age of player (yrs)\", y = \"Avg. points/game\") +\n",
    "ggtitle(\"Age of players vs. Avg. Points\") +\n",
    "theme(text = element_text(size = 12))\n",
    "\n",
    "nba_plot_height <- ggplot(nba_training, aes(x = player_height, y = pts)) +\n",
    "geom_point() +\n",
    "labs(x = \"Player height (cm)\", y = \"Avg. points/game\") +\n",
    "ggtitle(\"Player height vs. Avg. Points\") +\n",
    "theme(text = element_text(size = 12))\n",
    "\n",
    "nba_plot_weight <- ggplot(nba_training, aes(x = player_weight, y = pts)) +\n",
    "geom_point() +\n",
    "labs(x = \"Player weight (kg)\", y = \"Avg. points/game\") +\n",
    "ggtitle(\"Player weight vs. Avg. Points\") +\n",
    "theme(text = element_text(size = 12))\n",
    "\n",
    "\n",
    "nba_plot_number <- nba_training |>\n",
    "mutate(draft_number = as.numeric(draft_number)) |>\n",
    "ggplot(aes(x = draft_number, y = pts)) +\n",
    "geom_point() +\n",
    "labs(x = \"Draft Position\", y = \"Avg. points/game\") +\n",
    "ggtitle(\"Draft Position vs. Avg. Points\") +\n",
    "theme(text = element_text(size = 12))\n",
    "\n",
    "\n",
    "nba_plot_nr <- ggplot(nba_training, aes(x = net_rating, y = pts)) +\n",
    "geom_point() +\n",
    "labs(x = \"Net rating\", y = \"Avg. points/game\") +\n",
    "ggtitle(\"Net rating vs. Avg. Points\") +\n",
    "theme(text = element_text(size = 12))\n",
    "\n",
    "\n",
    "nba_plot_dr <- ggplot(nba_training, aes(x = draft_round, y = pts)) +\n",
    "geom_point() +\n",
    "labs(x = \"Draft Round\", y = \"Avg. points/game\") +\n",
    "ggtitle(\"Draft Round vs. Avg. Points\") +\n",
    "theme(text = element_text(size = 12))\n",
    "\n",
    "nba_plot_age\n",
    "nba_plot_height\n",
    "nba_plot_weight\n",
    "nba_plot_number\n",
    "nba_plot_nr\n",
    "nba_plot_dr"
   ]
  },
  {
   "cell_type": "markdown",
   "id": "b37ce4c8-03b6-457a-b9ff-4d79379dbe8e",
   "metadata": {},
   "source": [
    "As shown in the graphs, younger players and earlier draft position have positive correlation with average points. We expect these two parameters to be good predictors for performance. Basic information about the dataset is presented in the following table, consisting of the means for age, weight, height, draft number, as well as how many data points are contained in the set. "
   ]
  },
  {
   "cell_type": "code",
   "execution_count": 14,
   "id": "4342ade8-a50f-41a9-a934-0427d4adeac0",
   "metadata": {},
   "outputs": [
    {
     "ename": "ERROR",
     "evalue": "Error in summarise(nba_training, mean_age = mean(age)): object 'nba_training' not found\n",
     "output_type": "error",
     "traceback": [
      "Error in summarise(nba_training, mean_age = mean(age)): object 'nba_training' not found\nTraceback:\n",
      "1. summarise(nba_training, mean_age = mean(age))"
     ]
    }
   ],
   "source": [
    "summarise_age <- summarise(nba_training, mean_age = mean(age))\n",
    "summarise_height <- summarise(nba_training, mean_height = mean(player_height))\n",
    "summarise_weight <- summarise(nba_training, mean_weight = mean(player_weight))\n",
    "summarise_nr <- summarise(nba_training, mean_nr = mean(net_rating))\n",
    "summarise_nrow <- summarise(nba_training, total_rows = nrow(nba_training))\n",
    "\n",
    "summarise_draft_number <- nba_training |>\n",
    "summarise(mean_number = mean(as.numeric(draft_number), na.rm = TRUE))\n",
    "\n",
    "summarise_draft_round <- nba_training |>\n",
    "summarise(mean_round = mean(as.numeric(draft_round), na.rm = TRUE))\n",
    "\n",
    "\n",
    "\n",
    "combined_summary <- bind_cols(summarise_age, summarise_weight, summarise_height, summarise_draft_number, summarise_nr, summarise_nrow, \n",
    "                             summarise_draft_round)\n",
    "\n",
    "\n",
    "combined_summary\n",
    "\n"
   ]
  },
  {
   "cell_type": "markdown",
   "id": "0e8cab9a-c484-426c-98e0-bc114cd8ef47",
   "metadata": {},
   "source": [
    "## Data Analysis"
   ]
  },
  {
   "cell_type": "markdown",
   "id": "b9166c9c-1006-4a0b-b395-457551c48f1f",
   "metadata": {},
   "source": [
    "To predict the player performance variable, we will be using k-nearest neighbors regression, as the relationships between the predictor variables and our performance variable are not all linear, and the performance variable is numeric."
   ]
  },
  {
   "cell_type": "markdown",
   "id": "e4ffb11d-9bc4-4e24-b017-edba724ead14",
   "metadata": {},
   "source": [
    "First, we prepare the recipe by using the (scaled) age, player height, player weight, draft number, and draft round to predict the player's average points."
   ]
  },
  {
   "cell_type": "code",
   "execution_count": 15,
   "id": "b54ec642-cb44-46d8-87c4-9fc0a11f004a",
   "metadata": {},
   "outputs": [
    {
     "ename": "ERROR",
     "evalue": "Error in step_center(step_scale(recipe(pts ~ age + player_height + player_weight + : could not find function \"step_center\"\n",
     "output_type": "error",
     "traceback": [
      "Error in step_center(step_scale(recipe(pts ~ age + player_height + player_weight + : could not find function \"step_center\"\nTraceback:\n"
     ]
    }
   ],
   "source": [
    "nba_recipe <- recipe(pts ~ age + player_height + player_weight + net_rating + draft_number + draft_round, data = nba_training) |>\n",
    "step_scale(all_predictors()) |>\n",
    "step_center(all_predictors())\n",
    "\n",
    "nba_recipe"
   ]
  },
  {
   "cell_type": "markdown",
   "id": "bc09f930-29b8-4d78-95f7-ebc9adc81226",
   "metadata": {},
   "source": [
    "Then, we prepare the model. First, we will using tuning to determine the best number of neighbours to use, employing 5-fold cross-validation."
   ]
  },
  {
   "cell_type": "code",
   "execution_count": 16,
   "id": "d1e4030c-e092-44da-a035-bcd7520c464e",
   "metadata": {},
   "outputs": [
    {
     "ename": "ERROR",
     "evalue": "Error in set_mode(set_engine(nearest_neighbor(weight_func = \"rectangular\", : could not find function \"set_mode\"\n",
     "output_type": "error",
     "traceback": [
      "Error in set_mode(set_engine(nearest_neighbor(weight_func = \"rectangular\", : could not find function \"set_mode\"\nTraceback:\n"
     ]
    }
   ],
   "source": [
    "nba_spec <- nearest_neighbor(weight_func = \"rectangular\", neighbors = tune()) |>\n",
    "set_engine(\"kknn\") |>\n",
    "set_mode(\"regression\")\n",
    "\n",
    "nba_vfold <- vfold_cv(nba_training, v = 5, strata = pts)\n",
    "\n",
    "nba_workflow <- workflow() |>\n",
    "add_recipe(nba_recipe) |>\n",
    "add_model(nba_spec)\n",
    "\n",
    "nba_workflow\n"
   ]
  },
  {
   "cell_type": "markdown",
   "id": "3502e4d5-b16e-4d97-a065-c0f399d48a1a",
   "metadata": {},
   "source": [
    "Finally, we put it all together, using between 1 to 150 neighbours in increments of 5."
   ]
  },
  {
   "cell_type": "code",
   "execution_count": 17,
   "id": "31d60967-92ce-436b-8501-2ea58ea3e6d3",
   "metadata": {},
   "outputs": [
    {
     "ename": "ERROR",
     "evalue": "Error in collect_metrics(tune_grid(nba_workflow, resamples = nba_vfold, : could not find function \"collect_metrics\"\n",
     "output_type": "error",
     "traceback": [
      "Error in collect_metrics(tune_grid(nba_workflow, resamples = nba_vfold, : could not find function \"collect_metrics\"\nTraceback:\n",
      "1. filter(collect_metrics(tune_grid(nba_workflow, resamples = nba_vfold, \n .     grid = k_vals)), .metric == \"rmse\")"
     ]
    }
   ],
   "source": [
    "k_vals <- tibble(neighbors = seq(from = 1, to = 150, by = 5))\n",
    "\n",
    "nba_results <- nba_workflow |>\n",
    "  tune_grid(resamples = nba_vfold, grid = k_vals) |>\n",
    "  collect_metrics() |>\n",
    "  filter(.metric == \"rmse\")\n",
    "\n",
    "nba_results\n",
    "\n",
    "nba_smallest <- nba_results |>\n",
    "  filter(mean == min(mean))\n",
    "nba_smallest\n"
   ]
  },
  {
   "cell_type": "markdown",
   "id": "4aec47a9-134c-419c-b2cf-6826f89ab8f7",
   "metadata": {},
   "source": [
    "Next, we prepare the final model, using the optimal amount of neighbors."
   ]
  },
  {
   "cell_type": "code",
   "execution_count": 18,
   "id": "75038e6c-ebc7-41ea-809d-a885b3d57821",
   "metadata": {},
   "outputs": [
    {
     "ename": "ERROR",
     "evalue": "Error in pull(nba_smallest, neighbors): object 'nba_smallest' not found\n",
     "output_type": "error",
     "traceback": [
      "Error in pull(nba_smallest, neighbors): object 'nba_smallest' not found\nTraceback:\n",
      "1. pull(nba_smallest, neighbors)"
     ]
    }
   ],
   "source": [
    "neighbors_val <- nba_smallest |>\n",
    "pull(neighbors)\n",
    "\n",
    "nba_tuned_spec <- nearest_neighbor(weight_func = \"rectangular\", neighbors = neighbors_val) |>\n",
    "  set_engine(\"kknn\") |>\n",
    "  set_mode(\"regression\")\n",
    "\n",
    "nba_fit <- workflow() |>\n",
    "  add_recipe(nba_recipe) |>\n",
    "  add_model(nba_tuned_spec) |>\n",
    "  fit(data = nba_training)\n",
    "\n",
    "nba_predict <- nba_fit |>\n",
    "  predict(nba_testing) |>\n",
    "  bind_cols(nba_testing)\n",
    "\n",
    "\n",
    "\n",
    "nba_rmse <- nba_predict |>\n",
    "  metrics(truth = pts, estimate = .pred) |>\n",
    "  filter(.metric == 'rmse')\n",
    "\n",
    "nba_predict\n",
    "\n",
    "nba_rmse\n",
    "\n",
    "#head(nba_players |> arrange(pts, .desc = TRUE))"
   ]
  },
  {
   "cell_type": "markdown",
   "id": "4929c070-5a85-4303-8b87-400eaf67129b",
   "metadata": {},
   "source": [
    "Due to the multiple variables used in prediction, the visualization for this prediction is difficult to produce. Instead, each variable used in the analysis is presented separately."
   ]
  },
  {
   "cell_type": "code",
   "execution_count": 19,
   "id": "97ab2529-10a6-4138-9483-07a8fac49fc0",
   "metadata": {},
   "outputs": [
    {
     "ename": "ERROR",
     "evalue": "Error in ggplot(nba_training, aes(x = age, y = pts)): object 'nba_training' not found\n",
     "output_type": "error",
     "traceback": [
      "Error in ggplot(nba_training, aes(x = age, y = pts)): object 'nba_training' not found\nTraceback:\n",
      "1. ggplot(nba_training, aes(x = age, y = pts))"
     ]
    }
   ],
   "source": [
    "nba_predict_plot_age <- ggplot(nba_training, aes(x = age, y = pts)) +\n",
    "geom_point() +\n",
    "geom_line(data = nba_predict, mapping = aes(x = age, y = .pred), color = 'blue') +\n",
    "labs(x = \"Age (yrs)\", y = \"Points\") +\n",
    "ggtitle(\"Age vs. Points Scored with Estimated Values\")\n",
    "\n",
    "\n",
    "nba_predict_plot_age"
   ]
  },
  {
   "cell_type": "markdown",
   "id": "2f080e97-2374-4d53-8849-f1270a81e694",
   "metadata": {},
   "source": [
    "!!! Comments here"
   ]
  },
  {
   "cell_type": "code",
   "execution_count": 20,
   "id": "a715fe30-fbbf-4b1f-b08f-c72cc2464ee4",
   "metadata": {},
   "outputs": [
    {
     "ename": "ERROR",
     "evalue": "Error in ggplot(nba_training, aes(x = player_height, y = pts)): object 'nba_training' not found\n",
     "output_type": "error",
     "traceback": [
      "Error in ggplot(nba_training, aes(x = player_height, y = pts)): object 'nba_training' not found\nTraceback:\n",
      "1. ggplot(nba_training, aes(x = player_height, y = pts))"
     ]
    }
   ],
   "source": [
    "nba_predict_plot_height <- ggplot(nba_training, aes(x = player_height, y = pts)) +\n",
    "geom_point() +\n",
    "geom_line(data = nba_predict, mapping = aes(x = player_height, y = .pred), color = 'blue') +\n",
    "labs(x = \"Height (cm)\", y = \"Points\") +\n",
    "ggtitle(\"Height (cm) vs. Points Scored with Estimated Values\")\n",
    "\n",
    "nba_predict_plot_height"
   ]
  },
  {
   "cell_type": "code",
   "execution_count": 21,
   "id": "d438c716-9014-4748-b685-e5980165dac2",
   "metadata": {},
   "outputs": [
    {
     "ename": "ERROR",
     "evalue": "Error in ggplot(nba_training, aes(x = player_weight, y = pts)): object 'nba_training' not found\n",
     "output_type": "error",
     "traceback": [
      "Error in ggplot(nba_training, aes(x = player_weight, y = pts)): object 'nba_training' not found\nTraceback:\n",
      "1. ggplot(nba_training, aes(x = player_weight, y = pts))"
     ]
    }
   ],
   "source": [
    "nba_predict_plot_weight <- ggplot(nba_training, aes(x = player_weight, y = pts)) +\n",
    "geom_point() +\n",
    "geom_line(data = nba_predict, mapping = aes(x = player_weight, y = .pred), color = 'blue') +\n",
    "labs(x = \"Weight (kg)\", y = \"Points\") +\n",
    "ggtitle(\"Weight (kg) vs. Points Scored with Estimated Values\")\n",
    "\n",
    "nba_predict_plot_weight"
   ]
  },
  {
   "cell_type": "code",
   "execution_count": 22,
   "id": "29ee05b0-d06b-4164-b948-95bb9e2026a2",
   "metadata": {},
   "outputs": [
    {
     "ename": "ERROR",
     "evalue": "Error in ggplot(nba_training, aes(x = net_rating, y = pts)): object 'nba_training' not found\n",
     "output_type": "error",
     "traceback": [
      "Error in ggplot(nba_training, aes(x = net_rating, y = pts)): object 'nba_training' not found\nTraceback:\n",
      "1. ggplot(nba_training, aes(x = net_rating, y = pts))"
     ]
    }
   ],
   "source": [
    "options(repr.plot.width = 18)\n",
    "\n",
    "nba_predict_plot_nr <- ggplot(nba_training, aes(x = net_rating, y = pts)) +\n",
    "geom_point() +\n",
    "geom_line(data = nba_predict, mapping = aes(x = net_rating, y = .pred), color = 'blue') +\n",
    "labs(x = \"Net Rating\", y = \"Points\") +\n",
    "ggtitle(\"Net Rating vs. Points Scored with Estimated Values\")\n",
    "\n",
    "nba_predict_plot_nr"
   ]
  },
  {
   "cell_type": "markdown",
   "id": "5a1845d5-fc11-4f8b-81c7-7d92e59a4d4a",
   "metadata": {},
   "source": []
  },
  {
   "cell_type": "code",
   "execution_count": 23,
   "id": "c702f698-4bbe-41be-9b1e-29b2ae29acad",
   "metadata": {},
   "outputs": [
    {
     "ename": "ERROR",
     "evalue": "Error in ggplot(nba_training, aes(x = draft_number, y = pts)): object 'nba_training' not found\n",
     "output_type": "error",
     "traceback": [
      "Error in ggplot(nba_training, aes(x = draft_number, y = pts)): object 'nba_training' not found\nTraceback:\n",
      "1. ggplot(nba_training, aes(x = draft_number, y = pts))"
     ]
    }
   ],
   "source": [
    "options(repr.plot.width = 10)\n",
    "nba_predict_plot_dn <- ggplot(nba_training, aes(x = draft_number, y = pts)) +\n",
    "geom_point() +\n",
    "geom_line(data = nba_predict, mapping = aes(x = draft_number, y = .pred), color = 'blue') +\n",
    "labs(x = \"Draft Number\", y = \"Points\") +\n",
    "ggtitle(\"Draft Number vs. Points Scored with Estimated Values\")\n",
    "\n",
    "nba_predict_plot_dn"
   ]
  },
  {
   "cell_type": "code",
   "execution_count": 24,
   "id": "fa4a20cc-5eeb-4ed9-ac12-2d7cfc2e4798",
   "metadata": {
    "tags": []
   },
   "outputs": [
    {
     "ename": "ERROR",
     "evalue": "Error in ggplot(nba_training, aes(x = draft_round, y = pts)): object 'nba_training' not found\n",
     "output_type": "error",
     "traceback": [
      "Error in ggplot(nba_training, aes(x = draft_round, y = pts)): object 'nba_training' not found\nTraceback:\n",
      "1. ggplot(nba_training, aes(x = draft_round, y = pts))"
     ]
    }
   ],
   "source": [
    "\n",
    "nba_predict_plot_dr <- ggplot(nba_training, aes(x = draft_round, y = pts)) +\n",
    "geom_point() +\n",
    "geom_line(data = nba_predict, mapping = aes(x = draft_round, y = .pred), color = 'blue') +\n",
    "labs(x = \"Draft Round\", y = \"Points\") +\n",
    "ggtitle(\"Draft Round vs. Points Scored with Estimated Values\")\n",
    "nba_predict_plot_dr\n",
    "\n",
    "# delete this"
   ]
  },
  {
   "cell_type": "markdown",
   "id": "90342956-25bc-45ed-9e5e-e9d4dba7dcb8",
   "metadata": {},
   "source": [
    "# Discussion"
   ]
  },
  {
   "cell_type": "code",
   "execution_count": null,
   "id": "ccf893a5-e332-4284-a0d7-bb2256fb1573",
   "metadata": {},
   "outputs": [],
   "source": []
  },
  {
   "cell_type": "markdown",
   "id": "3498d78f-8aaf-4afc-ac48-fbde87750a5c",
   "metadata": {},
   "source": [
    "* summarize what you found\n",
    "* discuss whether this is what you expected to find?\n",
    "* discuss what impact could such findings have?\n",
    "* discuss what future questions could this lead to?"
   ]
  },
  {
   "cell_type": "markdown",
   "id": "2826218e-00a7-4212-a516-01d234213960",
   "metadata": {},
   "source": [
    "# References\n",
    "At least 2 citations of literature relevant to the project (format is your choice, just be consistent across the references).\n",
    "Make sure to cite the source of your data as well."
   ]
  },
  {
   "cell_type": "code",
   "execution_count": null,
   "id": "6e450d2a-c8d1-400d-977c-7273e001da7d",
   "metadata": {},
   "outputs": [],
   "source": []
  }
 ],
 "metadata": {
  "kernelspec": {
   "display_name": "R",
   "language": "R",
   "name": "ir"
  },
  "language_info": {
   "codemirror_mode": "r",
   "file_extension": ".r",
   "mimetype": "text/x-r-source",
   "name": "R",
   "pygments_lexer": "r",
   "version": "4.2.3"
  }
 },
 "nbformat": 4,
 "nbformat_minor": 5
}
