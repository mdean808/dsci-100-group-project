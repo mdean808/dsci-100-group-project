{
 "cells": [
  {
   "cell_type": "markdown",
   "id": "9b348cb1-70a7-4eb2-a472-ca88877885e7",
   "metadata": {},
   "source": [
    "<h1 style=\"text-align: center;\">Analyis of Point Production of NBA Players</h1>"
   ]
  },
  {
   "cell_type": "markdown",
   "id": "ccbab4e0-e83b-43e9-9a60-58e6fefb0424",
   "metadata": {},
   "source": [
    "# Introduction"
   ]
  },
  {
   "cell_type": "markdown",
   "id": "64fdbf77-9903-4840-86e5-445e375aedc2",
   "metadata": {},
   "source": [
    "Using this dataset of NBA player stats we want to perform a regression analysis of the selected variables to help predict the on-court performance of a player (their average points scored). To do so, all non-preformance related stats, including, age,  height, weight, and draft pick will be used. The season variable will also allow player preformances to be measured throughout time and compare NBA starts from all eras and styles of the game. All of these factors were selected because of their likelihood to correlate with stronger on-court performance.\n",
    "\n",
    "Our question: How do our selected factors help to predict the individual performance of NBA players? \n",
    "\n",
    "To do this, we will use [this dataset](https://www.kaggle.com/datasets/justinas/nba-players-data) from Kaggle. The data was acquired through the NBA API with missing information supplied by scraping from another NBA source (for this reason, the dataset was taken directly from Kaggle and not the original source). "
   ]
  },
  {
   "cell_type": "markdown",
   "id": "d221420a-7a33-47b0-a788-f2ddee71d70b",
   "metadata": {},
   "source": [
    "# Methods and Results"
   ]
  },
  {
   "cell_type": "markdown",
   "id": "841ca3b4-2eca-4dde-82a8-b1a6edc5fc3d",
   "metadata": {},
   "source": [
    "## Load Libraries"
   ]
  },
  {
   "cell_type": "code",
   "execution_count": 2,
   "id": "41bdac6b-3c67-4d84-a8ed-556d9e64df0d",
   "metadata": {},
   "outputs": [
    {
     "name": "stderr",
     "output_type": "stream",
     "text": [
      "Warning message in system(\"timedatectl\", intern = TRUE):\n",
      "“running command 'timedatectl' had status 1”\n",
      "── \u001b[1mAttaching core tidyverse packages\u001b[22m ──────────────────────── tidyverse 2.0.0 ──\n",
      "\u001b[32m✔\u001b[39m \u001b[34mdplyr    \u001b[39m 1.1.0     \u001b[32m✔\u001b[39m \u001b[34mreadr    \u001b[39m 2.1.4\n",
      "\u001b[32m✔\u001b[39m \u001b[34mforcats  \u001b[39m 1.0.0     \u001b[32m✔\u001b[39m \u001b[34mstringr  \u001b[39m 1.5.0\n",
      "\u001b[32m✔\u001b[39m \u001b[34mggplot2  \u001b[39m 3.4.1     \u001b[32m✔\u001b[39m \u001b[34mtibble   \u001b[39m 3.2.1\n",
      "\u001b[32m✔\u001b[39m \u001b[34mlubridate\u001b[39m 1.9.2     \u001b[32m✔\u001b[39m \u001b[34mtidyr    \u001b[39m 1.3.0\n",
      "\u001b[32m✔\u001b[39m \u001b[34mpurrr    \u001b[39m 1.0.1     \n",
      "── \u001b[1mConflicts\u001b[22m ────────────────────────────────────────── tidyverse_conflicts() ──\n",
      "\u001b[31m✖\u001b[39m \u001b[34mdplyr\u001b[39m::\u001b[32mfilter()\u001b[39m masks \u001b[34mstats\u001b[39m::filter()\n",
      "\u001b[31m✖\u001b[39m \u001b[34mdplyr\u001b[39m::\u001b[32mlag()\u001b[39m    masks \u001b[34mstats\u001b[39m::lag()\n",
      "\u001b[36mℹ\u001b[39m Use the conflicted package (\u001b[3m\u001b[34m<http://conflicted.r-lib.org/>\u001b[39m\u001b[23m) to force all conflicts to become errors\n"
     ]
    },
    {
     "ename": "ERROR",
     "evalue": "Error in library(tidymodels): there is no package called ‘tidymodels’\n",
     "output_type": "error",
     "traceback": [
      "Error in library(tidymodels): there is no package called ‘tidymodels’\nTraceback:\n",
      "1. library(tidymodels)"
     ]
    }
   ],
   "source": [
    "library(tidyverse)\n",
    "library(tidymodels)\n",
    "library(repr)\n",
    "options(repr.matrix.max.rows = 6)"
   ]
  },
  {
   "cell_type": "markdown",
   "id": "09b87609-e85e-4a39-82c2-71d7a19e4ce7",
   "metadata": {},
   "source": [
    "## Dataset Load & Preperation"
   ]
  },
  {
   "cell_type": "markdown",
   "id": "d4f4d1f5-6319-4bcf-969c-da5b24b3b119",
   "metadata": {},
   "source": [
    "First we pull our dataset from the internet."
   ]
  },
  {
   "cell_type": "markdown",
   "id": "a3f2d409-22d2-4797-ba69-1c8afeaa7778",
   "metadata": {},
   "source": [
    "The dataset contains 22 variables, the majority of which we need to discard as being impractical to use, having little impact on player performance (player name) or being directly related to a performance variable. We will conduct analysis on the remaining selected variables to try and predict the average points a player will get per season using regression analysis. By first training a model on the training data for each respective datapoint category we will then be able to analyze the knn regression and decide which of the columns is most effective at indicating points production."
   ]
  },
  {
   "cell_type": "code",
   "execution_count": null,
   "id": "d6996029-e9b9-4e03-badf-9a3bc3f1bdd6",
   "metadata": {},
   "outputs": [],
   "source": [
    "url <-\"https://raw.githubusercontent.com/mdean808/dsci-100-group-project/b11c50b091b2c4a554a2b7ff8f9e568e081b0f3c/all_seasons.csv\"\n",
    "\n",
    "\n",
    "temp <- tempfile()\n",
    "\n",
    "\n",
    "download.file(url, temp)\n",
    "# read the dataset from temp file\n",
    "player_data <- read_csv(temp)\n",
    "head(player_data)"
   ]
  },
  {
   "cell_type": "markdown",
   "id": "e7d0f2de-098e-4196-be94-5a984d5add6b",
   "metadata": {},
   "source": [
    "For our project, we will focus only on the specific parameters to judge the overall performance of an NBA player. \n",
    "\n",
    "Note that for `draft_round` players labeled as `Undrafted` were removed. Additionally, players drafted in or before 2000 are excluded, to keep the data used recent."
   ]
  },
  {
   "cell_type": "code",
   "execution_count": null,
   "id": "c72f4886-c5e4-47e7-8f5a-aea2bdef7f02",
   "metadata": {},
   "outputs": [],
   "source": [
    "nba_players <- player_data |>\n",
    "    filter(draft_year > 2000) |>\n",
    "    select(age, player_height, player_weight, net_rating, draft_number, draft_round, pts) |>\n",
    "    # remove undrafted players and convert draft_number to dbl\n",
    "    filter(draft_round != \"Undrafted\") |>\n",
    "    mutate(draft_round = as.numeric(draft_round)) |>\n",
    "    mutate(draft_number = as.numeric(draft_number))\n",
    "                \n",
    "nba_players"
   ]
  },
  {
   "cell_type": "markdown",
   "id": "4c301517-3955-4f75-a3fc-fa87f2eb1b6e",
   "metadata": {},
   "source": [
    "Now we will split the data into training and testing. We will use the training data to build our regression model and our testing data to test the validity of our model. "
   ]
  },
  {
   "cell_type": "code",
   "execution_count": null,
   "id": "09aac6af-cca7-4c47-b7c9-c754401dd5a2",
   "metadata": {},
   "outputs": [],
   "source": [
    "set.seed(\"1234\")\n",
    "nba_players_split <- initial_split(nba_players, prop = 0.75, strata = pts)\n",
    "nba_training <- training(nba_players_split)\n",
    "nba_testing <- testing(nba_players_split)\n",
    "\n",
    "nba_training"
   ]
  },
  {
   "cell_type": "markdown",
   "id": "be54ad56-34c6-49fe-b70a-352015c7a5e6",
   "metadata": {},
   "source": [
    "# Dataset Visualization"
   ]
  },
  {
   "cell_type": "markdown",
   "id": "e3a2d4c8-309f-42f3-ba6c-4b323c8d115a",
   "metadata": {},
   "source": [
    "Now we will look at the correlation of multiple parameters compared with points. This will allow us to predict which parameters strongly influence overall points scored before we build our regression model. "
   ]
  },
  {
   "cell_type": "code",
   "execution_count": null,
   "id": "589c72dd-0d3c-4170-be66-4e9f5e10af35",
   "metadata": {},
   "outputs": [],
   "source": [
    "options(repr.plot.width = 10)\n",
    "\n",
    "nba_plot_age <- ggplot(nba_training, aes(x = age, y = pts)) +\n",
    "geom_point() +\n",
    "labs(x = \"Age of player (yrs)\", y = \"Avg. points/game\") +\n",
    "ggtitle(\"Age of players vs. Avg. Points\") +\n",
    "theme(text = element_text(size = 12))\n",
    "\n",
    "nba_plot_height <- ggplot(nba_training, aes(x = player_height, y = pts)) +\n",
    "geom_point() +\n",
    "labs(x = \"Player height (cm)\", y = \"Avg. points/game\") +\n",
    "ggtitle(\"Player height vs. Avg. Points\") +\n",
    "theme(text = element_text(size = 12))\n",
    "\n",
    "nba_plot_weight <- ggplot(nba_training, aes(x = player_weight, y = pts)) +\n",
    "geom_point() +\n",
    "labs(x = \"Player weight (kg)\", y = \"Avg. points/game\") +\n",
    "ggtitle(\"Player weight vs. Avg. Points\") +\n",
    "theme(text = element_text(size = 12))\n",
    "\n",
    "\n",
    "nba_plot_number <- nba_training |>\n",
    "mutate(draft_number = as.numeric(draft_number)) |>\n",
    "ggplot(aes(x = draft_number, y = pts)) +\n",
    "geom_point() +\n",
    "labs(x = \"Draft Position\", y = \"Avg. points/game\") +\n",
    "ggtitle(\"Draft Position vs. Avg. Points\") +\n",
    "theme(text = element_text(size = 12))\n",
    "\n",
    "\n",
    "nba_plot_nr <- ggplot(nba_training, aes(x = net_rating, y = pts)) +\n",
    "geom_point() +\n",
    "labs(x = \"Net rating\", y = \"Avg. points/game\") +\n",
    "ggtitle(\"Net rating vs. Avg. Points\") +\n",
    "theme(text = element_text(size = 12))\n",
    "\n",
    "\n",
    "nba_plot_dr <- ggplot(nba_training, aes(x = draft_round, y = pts)) +\n",
    "geom_point() +\n",
    "labs(x = \"Draft Round\", y = \"Avg. points/game\") +\n",
    "ggtitle(\"Draft Round vs. Avg. Points\") +\n",
    "theme(text = element_text(size = 12))\n",
    "\n",
    "nba_plot_age\n",
    "nba_plot_height\n",
    "nba_plot_weight\n",
    "nba_plot_number\n",
    "nba_plot_nr\n",
    "nba_plot_dr"
   ]
  },
  {
   "cell_type": "markdown",
   "id": "b37ce4c8-03b6-457a-b9ff-4d79379dbe8e",
   "metadata": {},
   "source": [
    "As shown in the graphs, younger players and earlier draft position have positive correlation with average points. We expect these two parameters to be good predictors for performance. Basic information about the dataset is presented in the following table, consisting of the means for age, weight, height, draft number, as well as how many data points are contained in the set. "
   ]
  },
  {
   "cell_type": "code",
   "execution_count": null,
   "id": "4342ade8-a50f-41a9-a934-0427d4adeac0",
   "metadata": {},
   "outputs": [],
   "source": [
    "summarise_age <- summarise(nba_training, mean_age = mean(age))\n",
    "summarise_height <- summarise(nba_training, mean_height = mean(player_height))\n",
    "summarise_weight <- summarise(nba_training, mean_weight = mean(player_weight))\n",
    "summarise_nr <- summarise(nba_training, mean_nr = mean(net_rating))\n",
    "summarise_nrow <- summarise(nba_training, total_rows = nrow(nba_training))\n",
    "\n",
    "summarise_draft_number <- nba_training |>\n",
    "summarise(mean_number = mean(as.numeric(draft_number), na.rm = TRUE))\n",
    "\n",
    "summarise_draft_round <- nba_training |>\n",
    "summarise(mean_round = mean(as.numeric(draft_round), na.rm = TRUE))\n",
    "\n",
    "\n",
    "\n",
    "combined_summary <- bind_cols(summarise_age, summarise_weight, summarise_height, summarise_draft_number, summarise_nr, summarise_nrow, \n",
    "                             summarise_draft_round)\n",
    "\n",
    "\n",
    "combined_summary\n",
    "\n"
   ]
  },
  {
   "cell_type": "markdown",
   "id": "0e8cab9a-c484-426c-98e0-bc114cd8ef47",
   "metadata": {},
   "source": [
    "## Data Analysis"
   ]
  },
  {
   "cell_type": "markdown",
   "id": "b9166c9c-1006-4a0b-b395-457551c48f1f",
   "metadata": {},
   "source": [
    "To predict the player performance variable, we will be using k-nearest neighbors regression, as the relationships between the predictor variables and our performance variable are not all linear, and the performance variable is numeric."
   ]
  },
  {
   "cell_type": "markdown",
   "id": "e4ffb11d-9bc4-4e24-b017-edba724ead14",
   "metadata": {},
   "source": [
    "First, we prepare the recipe by using the (scaled) age, player height, player weight, draft number, and draft round to predict the player's average points."
   ]
  },
  {
   "cell_type": "code",
   "execution_count": null,
   "id": "b54ec642-cb44-46d8-87c4-9fc0a11f004a",
   "metadata": {},
   "outputs": [],
   "source": [
    "nba_recipe <- recipe(pts ~ age + player_height + player_weight + net_rating + draft_number + draft_round, data = nba_training) |>\n",
    "step_scale(all_predictors()) |>\n",
    "step_center(all_predictors())\n",
    "\n",
    "nba_recipe"
   ]
  },
  {
   "cell_type": "markdown",
   "id": "bc09f930-29b8-4d78-95f7-ebc9adc81226",
   "metadata": {},
   "source": [
    "Then, we prepare the model. First, we will using tuning to determine the best number of neighbours to use, employing 5-fold cross-validation."
   ]
  },
  {
   "cell_type": "code",
   "execution_count": null,
   "id": "d1e4030c-e092-44da-a035-bcd7520c464e",
   "metadata": {},
   "outputs": [],
   "source": [
    "nba_spec <- nearest_neighbor(weight_func = \"rectangular\", neighbors = tune()) |>\n",
    "set_engine(\"kknn\") |>\n",
    "set_mode(\"regression\")\n",
    "\n",
    "nba_vfold <- vfold_cv(nba_training, v = 5, strata = pts)\n",
    "\n",
    "nba_workflow <- workflow() |>\n",
    "add_recipe(nba_recipe) |>\n",
    "add_model(nba_spec)\n",
    "\n",
    "nba_workflow\n"
   ]
  },
  {
   "cell_type": "markdown",
   "id": "3502e4d5-b16e-4d97-a065-c0f399d48a1a",
   "metadata": {},
   "source": [
    "Finally, we put it all together, using between 1 to 150 neighbours in increments of 5."
   ]
  },
  {
   "cell_type": "code",
   "execution_count": null,
   "id": "31d60967-92ce-436b-8501-2ea58ea3e6d3",
   "metadata": {},
   "outputs": [],
   "source": [
    "k_vals <- tibble(neighbors = seq(from = 1, to = 150, by = 5))\n",
    "\n",
    "nba_results <- nba_workflow |>\n",
    "  tune_grid(resamples = nba_vfold, grid = k_vals) |>\n",
    "  collect_metrics() |>\n",
    "  filter(.metric == \"rmse\")\n",
    "\n",
    "nba_results\n",
    "\n",
    "nba_smallest <- nba_results |>\n",
    "  filter(mean == min(mean))\n",
    "nba_smallest\n"
   ]
  },
  {
   "cell_type": "markdown",
   "id": "4aec47a9-134c-419c-b2cf-6826f89ab8f7",
   "metadata": {},
   "source": [
    "Next, we prepare the final model, using the optimal amount of neighbors."
   ]
  },
  {
   "cell_type": "code",
   "execution_count": null,
   "id": "75038e6c-ebc7-41ea-809d-a885b3d57821",
   "metadata": {},
   "outputs": [],
   "source": [
    "neighbors_val <- nba_smallest |>\n",
    "pull(neighbors)\n",
    "\n",
    "nba_tuned_spec <- nearest_neighbor(weight_func = \"rectangular\", neighbors = neighbors_val) |>\n",
    "  set_engine(\"kknn\") |>\n",
    "  set_mode(\"regression\")\n",
    "\n",
    "nba_fit <- workflow() |>\n",
    "  add_recipe(nba_recipe) |>\n",
    "  add_model(nba_tuned_spec) |>\n",
    "  fit(data = nba_training)\n",
    "\n",
    "nba_predict <- nba_fit |>\n",
    "  predict(nba_testing) |>\n",
    "  bind_cols(nba_testing)\n",
    "\n",
    "\n",
    "\n",
    "nba_rmse <- nba_predict |>\n",
    "  metrics(truth = pts, estimate = .pred) |>\n",
    "  filter(.metric == 'rmse')\n",
    "\n",
    "nba_predict\n",
    "\n",
    "nba_rmse\n",
    "\n",
    "#head(nba_players |> arrange(pts, .desc = TRUE))"
   ]
  },
  {
   "cell_type": "markdown",
   "id": "4929c070-5a85-4303-8b87-400eaf67129b",
   "metadata": {},
   "source": [
    "Due to the multiple variables used in prediction, the visualization for this prediction is difficult to produce. Instead, each variable used in the analysis is presented separately."
   ]
  },
  {
   "cell_type": "code",
   "execution_count": null,
   "id": "97ab2529-10a6-4138-9483-07a8fac49fc0",
   "metadata": {},
   "outputs": [],
   "source": [
    "nba_predict_plot_age <- ggplot(nba_training, aes(x = age, y = pts)) +\n",
    "geom_point() +\n",
    "geom_line(data = nba_predict, mapping = aes(x = age, y = .pred), color = 'blue') +\n",
    "labs(x = \"Age (yrs)\", y = \"Points\") +\n",
    "ggtitle(\"Age vs. Points Scored with Estimated Values\")\n",
    "\n",
    "\n",
    "nba_predict_plot_age"
   ]
  },
  {
   "cell_type": "markdown",
   "id": "2f080e97-2374-4d53-8849-f1270a81e694",
   "metadata": {},
   "source": [
    "!!! Comments here"
   ]
  },
  {
   "cell_type": "code",
   "execution_count": null,
   "id": "a715fe30-fbbf-4b1f-b08f-c72cc2464ee4",
   "metadata": {},
   "outputs": [],
   "source": [
    "nba_predict_plot_height <- ggplot(nba_training, aes(x = player_height, y = pts)) +\n",
    "geom_point() +\n",
    "geom_line(data = nba_predict, mapping = aes(x = player_height, y = .pred), color = 'blue') +\n",
    "labs(x = \"Height (cm)\", y = \"Points\") +\n",
    "ggtitle(\"Height (cm) vs. Points Scored with Estimated Values\")\n",
    "\n",
    "nba_predict_plot_height"
   ]
  },
  {
   "cell_type": "code",
   "execution_count": null,
   "id": "d438c716-9014-4748-b685-e5980165dac2",
   "metadata": {},
   "outputs": [],
   "source": [
    "nba_predict_plot_weight <- ggplot(nba_training, aes(x = player_weight, y = pts)) +\n",
    "geom_point() +\n",
    "geom_line(data = nba_predict, mapping = aes(x = player_weight, y = .pred), color = 'blue') +\n",
    "labs(x = \"Weight (kg)\", y = \"Points\") +\n",
    "ggtitle(\"Weight (kg) vs. Points Scored with Estimated Values\")\n",
    "\n",
    "nba_predict_plot_weight"
   ]
  },
  {
   "cell_type": "code",
   "execution_count": null,
   "id": "29ee05b0-d06b-4164-b948-95bb9e2026a2",
   "metadata": {},
   "outputs": [],
   "source": [
    "options(repr.plot.width = 18)\n",
    "\n",
    "nba_predict_plot_nr <- ggplot(nba_training, aes(x = net_rating, y = pts)) +\n",
    "geom_point() +\n",
    "geom_line(data = nba_predict, mapping = aes(x = net_rating, y = .pred), color = 'blue') +\n",
    "labs(x = \"Net Rating\", y = \"Points\") +\n",
    "ggtitle(\"Net Rating vs. Points Scored with Estimated Values\")\n",
    "\n",
    "nba_predict_plot_nr"
   ]
  },
  {
   "cell_type": "markdown",
   "id": "5a1845d5-fc11-4f8b-81c7-7d92e59a4d4a",
   "metadata": {},
   "source": []
  },
  {
   "cell_type": "code",
   "execution_count": null,
   "id": "c702f698-4bbe-41be-9b1e-29b2ae29acad",
   "metadata": {},
   "outputs": [],
   "source": [
    "options(repr.plot.width = 10)\n",
    "nba_predict_plot_dn <- ggplot(nba_training, aes(x = draft_number, y = pts)) +\n",
    "geom_point() +\n",
    "geom_line(data = nba_predict, mapping = aes(x = draft_number, y = .pred), color = 'blue') +\n",
    "labs(x = \"Draft Number\", y = \"Points\") +\n",
    "ggtitle(\"Draft Number vs. Points Scored with Estimated Values\")\n",
    "\n",
    "nba_predict_plot_dn"
   ]
  },
  {
   "cell_type": "code",
   "execution_count": null,
   "id": "fa4a20cc-5eeb-4ed9-ac12-2d7cfc2e4798",
   "metadata": {
    "tags": []
   },
   "outputs": [],
   "source": [
    "\n",
    "nba_predict_plot_dr <- ggplot(nba_training, aes(x = draft_round, y = pts)) +\n",
    "geom_point() +\n",
    "geom_line(data = nba_predict, mapping = aes(x = draft_round, y = .pred), color = 'blue') +\n",
    "labs(x = \"Draft Round\", y = \"Points\") +\n",
    "ggtitle(\"Draft Round vs. Points Scored with Estimated Values\")\n",
    "nba_predict_plot_dr\n",
    "\n",
    "# delete this"
   ]
  },
  {
   "cell_type": "markdown",
   "id": "90342956-25bc-45ed-9e5e-e9d4dba7dcb8",
   "metadata": {},
   "source": [
    "# Discussion"
   ]
  },
  {
   "cell_type": "code",
   "execution_count": null,
   "id": "ccf893a5-e332-4284-a0d7-bb2256fb1573",
   "metadata": {},
   "outputs": [],
   "source": []
  },
  {
   "cell_type": "markdown",
   "id": "3498d78f-8aaf-4afc-ac48-fbde87750a5c",
   "metadata": {},
   "source": [
    "* summarize what you found\n",
    "* discuss whether this is what you expected to find?\n",
    "* discuss what impact could such findings have?\n",
    "* discuss what future questions could this lead to?"
   ]
  },
  {
   "cell_type": "markdown",
   "id": "2826218e-00a7-4212-a516-01d234213960",
   "metadata": {},
   "source": [
    "# References\n",
    "At least 2 citations of literature relevant to the project (format is your choice, just be consistent across the references).\n",
    "Make sure to cite the source of your data as well."
   ]
  },
  {
   "cell_type": "code",
   "execution_count": null,
   "id": "6e450d2a-c8d1-400d-977c-7273e001da7d",
   "metadata": {},
   "outputs": [],
   "source": []
  }
 ],
 "metadata": {
  "kernelspec": {
   "display_name": "R",
   "language": "R",
   "name": "ir"
  },
  "language_info": {
   "codemirror_mode": "r",
   "file_extension": ".r",
   "mimetype": "text/x-r-source",
   "name": "R",
   "pygments_lexer": "r",
   "version": "4.2.3"
  }
 },
 "nbformat": 4,
 "nbformat_minor": 5
}
